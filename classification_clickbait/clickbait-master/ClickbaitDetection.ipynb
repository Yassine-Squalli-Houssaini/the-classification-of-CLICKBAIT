{
 "cells": [
  {
   "cell_type": "markdown",
   "id": "a3cd591e",
   "metadata": {},
   "source": [
    "# 1. Loading the data :"
   ]
  },
  {
   "cell_type": "code",
   "execution_count": 1,
   "id": "9f4a0cea",
   "metadata": {},
   "outputs": [],
   "source": [
    "import numpy as np \n",
    "import pandas as pd \n",
    "import nltk   \n",
    "import matplotlib.pyplot as plt           \n",
    "import random \n",
    "import os\n",
    "from collections import Counter \n",
    "from sklearn.model_selection import train_test_split\n",
    "from sklearn.linear_model import LogisticRegression\n",
    "import pandas as pd\n",
    "import re                                  \n",
    "import string                              \n",
    "from nltk.corpus import stopwords          \n",
    "from nltk.stem import PorterStemmer        \n",
    "from nltk.tokenize import word_tokenize   \n",
    "from sklearn.feature_extraction.text import TfidfVectorizer \n",
    "import plotly.graph_objects as go\n",
    "from wordcloud import WordCloud, STOPWORDS, ImageColorGenerator\n",
    "import seaborn as sns\n",
    "from sklearn.utils import shuffle\n",
    "from sklearn.neighbors import KNeighborsClassifier\n",
    "from sklearn.metrics import accuracy_score\n",
    "from sklearn.model_selection import cross_val_score\n",
    "from sklearn.naive_bayes import GaussianNB\n",
    "from sklearn.naive_bayes import MultinomialNB\n",
    "from sklearn.tree import DecisionTreeClassifier\n",
    "from sklearn.svm import LinearSVC\n",
    "from sklearn.linear_model import Perceptron\n",
    "from sklearn.ensemble import RandomForestClassifier\n",
    "from sklearn.metrics import confusion_matrix \n",
    "from sklearn.metrics import classification_report\n",
    "from sklearn import metrics\n",
    "from sklearn.metrics import roc_curve, auc"
   ]
  },
  {
   "cell_type": "code",
   "execution_count": 2,
   "id": "e16ded63",
   "metadata": {},
   "outputs": [
    {
     "data": {
      "text/html": [
       "<div>\n",
       "<style scoped>\n",
       "    .dataframe tbody tr th:only-of-type {\n",
       "        vertical-align: middle;\n",
       "    }\n",
       "\n",
       "    .dataframe tbody tr th {\n",
       "        vertical-align: top;\n",
       "    }\n",
       "\n",
       "    .dataframe thead th {\n",
       "        text-align: right;\n",
       "    }\n",
       "</style>\n",
       "<table border=\"1\" class=\"dataframe\">\n",
       "  <thead>\n",
       "    <tr style=\"text-align: right;\">\n",
       "      <th></th>\n",
       "      <th>Title</th>\n",
       "    </tr>\n",
       "  </thead>\n",
       "  <tbody>\n",
       "    <tr>\n",
       "      <th>0</th>\n",
       "      <td>Should I Get Bings</td>\n",
       "    </tr>\n",
       "    <tr>\n",
       "      <th>1</th>\n",
       "      <td>Which TV Female Friend Group Do You Belong In</td>\n",
       "    </tr>\n",
       "    <tr>\n",
       "      <th>2</th>\n",
       "      <td>The New \"Star Wars: The Force Awakens\" Trailer...</td>\n",
       "    </tr>\n",
       "    <tr>\n",
       "      <th>3</th>\n",
       "      <td>This Vine Of New York On \"Celebrity Big Brothe...</td>\n",
       "    </tr>\n",
       "    <tr>\n",
       "      <th>4</th>\n",
       "      <td>A Couple Did A Stunning Photo Shoot With Their...</td>\n",
       "    </tr>\n",
       "  </tbody>\n",
       "</table>\n",
       "</div>"
      ],
      "text/plain": [
       "                                               Title\n",
       "0                                 Should I Get Bings\n",
       "1      Which TV Female Friend Group Do You Belong In\n",
       "2  The New \"Star Wars: The Force Awakens\" Trailer...\n",
       "3  This Vine Of New York On \"Celebrity Big Brothe...\n",
       "4  A Couple Did A Stunning Photo Shoot With Their..."
      ]
     },
     "execution_count": 2,
     "metadata": {},
     "output_type": "execute_result"
    }
   ],
   "source": [
    "df_clickbait = pd.read_excel('clickbait_data.xlsx')\n",
    "df_clickbait.head()"
   ]
  },
  {
   "cell_type": "code",
   "execution_count": 3,
   "id": "48816453",
   "metadata": {},
   "outputs": [
    {
     "data": {
      "text/html": [
       "<div>\n",
       "<style scoped>\n",
       "    .dataframe tbody tr th:only-of-type {\n",
       "        vertical-align: middle;\n",
       "    }\n",
       "\n",
       "    .dataframe tbody tr th {\n",
       "        vertical-align: top;\n",
       "    }\n",
       "\n",
       "    .dataframe thead th {\n",
       "        text-align: right;\n",
       "    }\n",
       "</style>\n",
       "<table border=\"1\" class=\"dataframe\">\n",
       "  <thead>\n",
       "    <tr style=\"text-align: right;\">\n",
       "      <th></th>\n",
       "      <th>Title</th>\n",
       "    </tr>\n",
       "  </thead>\n",
       "  <tbody>\n",
       "    <tr>\n",
       "      <th>0</th>\n",
       "      <td>Bill Changing Credit Card Rules Is Sent to Oba...</td>\n",
       "    </tr>\n",
       "    <tr>\n",
       "      <th>1</th>\n",
       "      <td>In Hollywood, the Easy-Money Generation Toughe...</td>\n",
       "    </tr>\n",
       "    <tr>\n",
       "      <th>2</th>\n",
       "      <td>1700 runners still unaccounted for in UK's Lak...</td>\n",
       "    </tr>\n",
       "    <tr>\n",
       "      <th>3</th>\n",
       "      <td>Yankees Pitchers Trade Fielding Drills for Put...</td>\n",
       "    </tr>\n",
       "    <tr>\n",
       "      <th>4</th>\n",
       "      <td>Large earthquake rattles Indonesia; Seventh in...</td>\n",
       "    </tr>\n",
       "  </tbody>\n",
       "</table>\n",
       "</div>"
      ],
      "text/plain": [
       "                                               Title\n",
       "0  Bill Changing Credit Card Rules Is Sent to Oba...\n",
       "1  In Hollywood, the Easy-Money Generation Toughe...\n",
       "2  1700 runners still unaccounted for in UK's Lak...\n",
       "3  Yankees Pitchers Trade Fielding Drills for Put...\n",
       "4  Large earthquake rattles Indonesia; Seventh in..."
      ]
     },
     "execution_count": 3,
     "metadata": {},
     "output_type": "execute_result"
    }
   ],
   "source": [
    "df_non_clickbait = pd.read_excel('non-clickbait_data.xlsx')\n",
    "df_non_clickbait.head()"
   ]
  },
  {
   "cell_type": "code",
   "execution_count": 4,
   "id": "bfd25e14",
   "metadata": {},
   "outputs": [],
   "source": [
    "df_clickbait[\"Class\"] = 1 \n",
    "df_non_clickbait[\"Class\"] = 0"
   ]
  },
  {
   "cell_type": "code",
   "execution_count": 5,
   "id": "f234778f",
   "metadata": {},
   "outputs": [
    {
     "data": {
      "text/plain": [
       "((15999, 2), (16001, 2))"
      ]
     },
     "execution_count": 5,
     "metadata": {},
     "output_type": "execute_result"
    }
   ],
   "source": [
    " df_clickbait.shape, df_non_clickbait.shape"
   ]
  },
  {
   "cell_type": "code",
   "execution_count": 6,
   "id": "9d95bdc4",
   "metadata": {
    "scrolled": false
   },
   "outputs": [
    {
     "data": {
      "text/html": [
       "<div>\n",
       "<style scoped>\n",
       "    .dataframe tbody tr th:only-of-type {\n",
       "        vertical-align: middle;\n",
       "    }\n",
       "\n",
       "    .dataframe tbody tr th {\n",
       "        vertical-align: top;\n",
       "    }\n",
       "\n",
       "    .dataframe thead th {\n",
       "        text-align: right;\n",
       "    }\n",
       "</style>\n",
       "<table border=\"1\" class=\"dataframe\">\n",
       "  <thead>\n",
       "    <tr style=\"text-align: right;\">\n",
       "      <th></th>\n",
       "      <th>Title</th>\n",
       "      <th>Class</th>\n",
       "    </tr>\n",
       "  </thead>\n",
       "  <tbody>\n",
       "    <tr>\n",
       "      <th>0</th>\n",
       "      <td>Should I Get Bings</td>\n",
       "      <td>1</td>\n",
       "    </tr>\n",
       "    <tr>\n",
       "      <th>1</th>\n",
       "      <td>Which TV Female Friend Group Do You Belong In</td>\n",
       "      <td>1</td>\n",
       "    </tr>\n",
       "    <tr>\n",
       "      <th>2</th>\n",
       "      <td>The New \"Star Wars: The Force Awakens\" Trailer...</td>\n",
       "      <td>1</td>\n",
       "    </tr>\n",
       "    <tr>\n",
       "      <th>3</th>\n",
       "      <td>This Vine Of New York On \"Celebrity Big Brothe...</td>\n",
       "      <td>1</td>\n",
       "    </tr>\n",
       "    <tr>\n",
       "      <th>4</th>\n",
       "      <td>A Couple Did A Stunning Photo Shoot With Their...</td>\n",
       "      <td>1</td>\n",
       "    </tr>\n",
       "    <tr>\n",
       "      <th>...</th>\n",
       "      <td>...</td>\n",
       "      <td>...</td>\n",
       "    </tr>\n",
       "    <tr>\n",
       "      <th>15996</th>\n",
       "      <td>To Make Female Hearts Flutter in Iraq, Throw a...</td>\n",
       "      <td>0</td>\n",
       "    </tr>\n",
       "    <tr>\n",
       "      <th>15997</th>\n",
       "      <td>British Liberal Democrat Patsy Calton, 56, die...</td>\n",
       "      <td>0</td>\n",
       "    </tr>\n",
       "    <tr>\n",
       "      <th>15998</th>\n",
       "      <td>Drone smartphone app to help heart attack vict...</td>\n",
       "      <td>0</td>\n",
       "    </tr>\n",
       "    <tr>\n",
       "      <th>15999</th>\n",
       "      <td>Netanyahu Urges Pope Benedict, in Israel, to D...</td>\n",
       "      <td>0</td>\n",
       "    </tr>\n",
       "    <tr>\n",
       "      <th>16000</th>\n",
       "      <td>Computer Makers Prepare to Stake Bigger Claim ...</td>\n",
       "      <td>0</td>\n",
       "    </tr>\n",
       "  </tbody>\n",
       "</table>\n",
       "<p>32000 rows × 2 columns</p>\n",
       "</div>"
      ],
      "text/plain": [
       "                                                   Title  Class\n",
       "0                                     Should I Get Bings      1\n",
       "1          Which TV Female Friend Group Do You Belong In      1\n",
       "2      The New \"Star Wars: The Force Awakens\" Trailer...      1\n",
       "3      This Vine Of New York On \"Celebrity Big Brothe...      1\n",
       "4      A Couple Did A Stunning Photo Shoot With Their...      1\n",
       "...                                                  ...    ...\n",
       "15996  To Make Female Hearts Flutter in Iraq, Throw a...      0\n",
       "15997  British Liberal Democrat Patsy Calton, 56, die...      0\n",
       "15998  Drone smartphone app to help heart attack vict...      0\n",
       "15999  Netanyahu Urges Pope Benedict, in Israel, to D...      0\n",
       "16000  Computer Makers Prepare to Stake Bigger Claim ...      0\n",
       "\n",
       "[32000 rows x 2 columns]"
      ]
     },
     "execution_count": 6,
     "metadata": {},
     "output_type": "execute_result"
    }
   ],
   "source": [
    "df = pd.concat([df_clickbait,df_non_clickbait], axis=0)\n",
    "df"
   ]
  },
  {
   "cell_type": "code",
   "execution_count": 7,
   "id": "a6b22fc8",
   "metadata": {},
   "outputs": [
    {
     "data": {
      "text/plain": [
       "(32000, 2)"
      ]
     },
     "execution_count": 7,
     "metadata": {},
     "output_type": "execute_result"
    }
   ],
   "source": [
    "df.shape"
   ]
  },
  {
   "cell_type": "markdown",
   "id": "b49fedc0",
   "metadata": {},
   "source": [
    "# 2. Preprocessing:\n",
    "## 2.1 Removing punctuation and lower casing words"
   ]
  },
  {
   "cell_type": "code",
   "execution_count": 8,
   "id": "bc887c69",
   "metadata": {},
   "outputs": [],
   "source": [
    "def remove_punctuation(text):\n",
    "    return \"\".join([\"\" if ch in string.punctuation else ch.lower() for ch in text])"
   ]
  },
  {
   "cell_type": "code",
   "execution_count": 9,
   "id": "f587c307",
   "metadata": {},
   "outputs": [],
   "source": [
    "df['Title'] = df['Title'].apply(remove_punctuation)\n"
   ]
  },
  {
   "cell_type": "code",
   "execution_count": 10,
   "id": "473f4e97",
   "metadata": {
    "scrolled": true
   },
   "outputs": [
    {
     "data": {
      "text/html": [
       "<div>\n",
       "<style scoped>\n",
       "    .dataframe tbody tr th:only-of-type {\n",
       "        vertical-align: middle;\n",
       "    }\n",
       "\n",
       "    .dataframe tbody tr th {\n",
       "        vertical-align: top;\n",
       "    }\n",
       "\n",
       "    .dataframe thead th {\n",
       "        text-align: right;\n",
       "    }\n",
       "</style>\n",
       "<table border=\"1\" class=\"dataframe\">\n",
       "  <thead>\n",
       "    <tr style=\"text-align: right;\">\n",
       "      <th></th>\n",
       "      <th>Title</th>\n",
       "      <th>Class</th>\n",
       "    </tr>\n",
       "  </thead>\n",
       "  <tbody>\n",
       "    <tr>\n",
       "      <th>0</th>\n",
       "      <td>should i get bings</td>\n",
       "      <td>1</td>\n",
       "    </tr>\n",
       "    <tr>\n",
       "      <th>1</th>\n",
       "      <td>which tv female friend group do you belong in</td>\n",
       "      <td>1</td>\n",
       "    </tr>\n",
       "    <tr>\n",
       "      <th>2</th>\n",
       "      <td>the new star wars the force awakens trailer is...</td>\n",
       "      <td>1</td>\n",
       "    </tr>\n",
       "    <tr>\n",
       "      <th>3</th>\n",
       "      <td>this vine of new york on celebrity big brother...</td>\n",
       "      <td>1</td>\n",
       "    </tr>\n",
       "    <tr>\n",
       "      <th>4</th>\n",
       "      <td>a couple did a stunning photo shoot with their...</td>\n",
       "      <td>1</td>\n",
       "    </tr>\n",
       "    <tr>\n",
       "      <th>...</th>\n",
       "      <td>...</td>\n",
       "      <td>...</td>\n",
       "    </tr>\n",
       "    <tr>\n",
       "      <th>15996</th>\n",
       "      <td>to make female hearts flutter in iraq throw a ...</td>\n",
       "      <td>0</td>\n",
       "    </tr>\n",
       "    <tr>\n",
       "      <th>15997</th>\n",
       "      <td>british liberal democrat patsy calton 56 dies ...</td>\n",
       "      <td>0</td>\n",
       "    </tr>\n",
       "    <tr>\n",
       "      <th>15998</th>\n",
       "      <td>drone smartphone app to help heart attack vict...</td>\n",
       "      <td>0</td>\n",
       "    </tr>\n",
       "    <tr>\n",
       "      <th>15999</th>\n",
       "      <td>netanyahu urges pope benedict in israel to den...</td>\n",
       "      <td>0</td>\n",
       "    </tr>\n",
       "    <tr>\n",
       "      <th>16000</th>\n",
       "      <td>computer makers prepare to stake bigger claim ...</td>\n",
       "      <td>0</td>\n",
       "    </tr>\n",
       "  </tbody>\n",
       "</table>\n",
       "<p>32000 rows × 2 columns</p>\n",
       "</div>"
      ],
      "text/plain": [
       "                                                   Title  Class\n",
       "0                                     should i get bings      1\n",
       "1          which tv female friend group do you belong in      1\n",
       "2      the new star wars the force awakens trailer is...      1\n",
       "3      this vine of new york on celebrity big brother...      1\n",
       "4      a couple did a stunning photo shoot with their...      1\n",
       "...                                                  ...    ...\n",
       "15996  to make female hearts flutter in iraq throw a ...      0\n",
       "15997  british liberal democrat patsy calton 56 dies ...      0\n",
       "15998  drone smartphone app to help heart attack vict...      0\n",
       "15999  netanyahu urges pope benedict in israel to den...      0\n",
       "16000  computer makers prepare to stake bigger claim ...      0\n",
       "\n",
       "[32000 rows x 2 columns]"
      ]
     },
     "execution_count": 10,
     "metadata": {},
     "output_type": "execute_result"
    }
   ],
   "source": [
    "df"
   ]
  },
  {
   "cell_type": "markdown",
   "id": "7bc37b8b",
   "metadata": {},
   "source": [
    "## 2.2 Removing Numbers:"
   ]
  },
  {
   "cell_type": "code",
   "execution_count": 11,
   "id": "039667c4",
   "metadata": {},
   "outputs": [],
   "source": [
    "def remove_numbers(text):\n",
    "    return \"\".join([\"\" if ch in string.digits else ch for ch in text])"
   ]
  },
  {
   "cell_type": "code",
   "execution_count": 12,
   "id": "8934e760",
   "metadata": {},
   "outputs": [],
   "source": [
    "df['Title'] = df['Title'].apply(remove_numbers)\n"
   ]
  },
  {
   "cell_type": "code",
   "execution_count": 13,
   "id": "72da2219",
   "metadata": {},
   "outputs": [
    {
     "data": {
      "text/html": [
       "<div>\n",
       "<style scoped>\n",
       "    .dataframe tbody tr th:only-of-type {\n",
       "        vertical-align: middle;\n",
       "    }\n",
       "\n",
       "    .dataframe tbody tr th {\n",
       "        vertical-align: top;\n",
       "    }\n",
       "\n",
       "    .dataframe thead th {\n",
       "        text-align: right;\n",
       "    }\n",
       "</style>\n",
       "<table border=\"1\" class=\"dataframe\">\n",
       "  <thead>\n",
       "    <tr style=\"text-align: right;\">\n",
       "      <th></th>\n",
       "      <th>Title</th>\n",
       "      <th>Class</th>\n",
       "    </tr>\n",
       "  </thead>\n",
       "  <tbody>\n",
       "    <tr>\n",
       "      <th>0</th>\n",
       "      <td>should i get bings</td>\n",
       "      <td>1</td>\n",
       "    </tr>\n",
       "    <tr>\n",
       "      <th>1</th>\n",
       "      <td>which tv female friend group do you belong in</td>\n",
       "      <td>1</td>\n",
       "    </tr>\n",
       "    <tr>\n",
       "      <th>2</th>\n",
       "      <td>the new star wars the force awakens trailer is...</td>\n",
       "      <td>1</td>\n",
       "    </tr>\n",
       "    <tr>\n",
       "      <th>3</th>\n",
       "      <td>this vine of new york on celebrity big brother...</td>\n",
       "      <td>1</td>\n",
       "    </tr>\n",
       "    <tr>\n",
       "      <th>4</th>\n",
       "      <td>a couple did a stunning photo shoot with their...</td>\n",
       "      <td>1</td>\n",
       "    </tr>\n",
       "    <tr>\n",
       "      <th>...</th>\n",
       "      <td>...</td>\n",
       "      <td>...</td>\n",
       "    </tr>\n",
       "    <tr>\n",
       "      <th>15996</th>\n",
       "      <td>to make female hearts flutter in iraq throw a ...</td>\n",
       "      <td>0</td>\n",
       "    </tr>\n",
       "    <tr>\n",
       "      <th>15997</th>\n",
       "      <td>british liberal democrat patsy calton  dies of...</td>\n",
       "      <td>0</td>\n",
       "    </tr>\n",
       "    <tr>\n",
       "      <th>15998</th>\n",
       "      <td>drone smartphone app to help heart attack vict...</td>\n",
       "      <td>0</td>\n",
       "    </tr>\n",
       "    <tr>\n",
       "      <th>15999</th>\n",
       "      <td>netanyahu urges pope benedict in israel to den...</td>\n",
       "      <td>0</td>\n",
       "    </tr>\n",
       "    <tr>\n",
       "      <th>16000</th>\n",
       "      <td>computer makers prepare to stake bigger claim ...</td>\n",
       "      <td>0</td>\n",
       "    </tr>\n",
       "  </tbody>\n",
       "</table>\n",
       "<p>32000 rows × 2 columns</p>\n",
       "</div>"
      ],
      "text/plain": [
       "                                                   Title  Class\n",
       "0                                     should i get bings      1\n",
       "1          which tv female friend group do you belong in      1\n",
       "2      the new star wars the force awakens trailer is...      1\n",
       "3      this vine of new york on celebrity big brother...      1\n",
       "4      a couple did a stunning photo shoot with their...      1\n",
       "...                                                  ...    ...\n",
       "15996  to make female hearts flutter in iraq throw a ...      0\n",
       "15997  british liberal democrat patsy calton  dies of...      0\n",
       "15998  drone smartphone app to help heart attack vict...      0\n",
       "15999  netanyahu urges pope benedict in israel to den...      0\n",
       "16000  computer makers prepare to stake bigger claim ...      0\n",
       "\n",
       "[32000 rows x 2 columns]"
      ]
     },
     "execution_count": 13,
     "metadata": {},
     "output_type": "execute_result"
    }
   ],
   "source": [
    "df"
   ]
  },
  {
   "cell_type": "markdown",
   "id": "d39798ca",
   "metadata": {},
   "source": [
    "## 2.3 Tokenizing:"
   ]
  },
  {
   "cell_type": "code",
   "execution_count": 14,
   "id": "f0206e67",
   "metadata": {},
   "outputs": [
    {
     "name": "stderr",
     "output_type": "stream",
     "text": [
      "[nltk_data] Downloading package punkt to\n",
      "[nltk_data]     C:\\Users\\aorus\\AppData\\Roaming\\nltk_data...\n",
      "[nltk_data]   Package punkt is already up-to-date!\n"
     ]
    },
    {
     "data": {
      "text/plain": [
       "True"
      ]
     },
     "execution_count": 14,
     "metadata": {},
     "output_type": "execute_result"
    }
   ],
   "source": [
    "import nltk\n",
    "nltk.download('punkt')\n"
   ]
  },
  {
   "cell_type": "code",
   "execution_count": 15,
   "id": "ef667e64",
   "metadata": {},
   "outputs": [],
   "source": [
    "df['Title'] = df['Title'].apply(word_tokenize)\n"
   ]
  },
  {
   "cell_type": "code",
   "execution_count": 16,
   "id": "f72554d1",
   "metadata": {},
   "outputs": [
    {
     "data": {
      "text/html": [
       "<div>\n",
       "<style scoped>\n",
       "    .dataframe tbody tr th:only-of-type {\n",
       "        vertical-align: middle;\n",
       "    }\n",
       "\n",
       "    .dataframe tbody tr th {\n",
       "        vertical-align: top;\n",
       "    }\n",
       "\n",
       "    .dataframe thead th {\n",
       "        text-align: right;\n",
       "    }\n",
       "</style>\n",
       "<table border=\"1\" class=\"dataframe\">\n",
       "  <thead>\n",
       "    <tr style=\"text-align: right;\">\n",
       "      <th></th>\n",
       "      <th>Title</th>\n",
       "      <th>Class</th>\n",
       "    </tr>\n",
       "  </thead>\n",
       "  <tbody>\n",
       "    <tr>\n",
       "      <th>0</th>\n",
       "      <td>[should, i, get, bings]</td>\n",
       "      <td>1</td>\n",
       "    </tr>\n",
       "    <tr>\n",
       "      <th>1</th>\n",
       "      <td>[which, tv, female, friend, group, do, you, be...</td>\n",
       "      <td>1</td>\n",
       "    </tr>\n",
       "    <tr>\n",
       "      <th>2</th>\n",
       "      <td>[the, new, star, wars, the, force, awakens, tr...</td>\n",
       "      <td>1</td>\n",
       "    </tr>\n",
       "    <tr>\n",
       "      <th>3</th>\n",
       "      <td>[this, vine, of, new, york, on, celebrity, big...</td>\n",
       "      <td>1</td>\n",
       "    </tr>\n",
       "    <tr>\n",
       "      <th>4</th>\n",
       "      <td>[a, couple, did, a, stunning, photo, shoot, wi...</td>\n",
       "      <td>1</td>\n",
       "    </tr>\n",
       "    <tr>\n",
       "      <th>...</th>\n",
       "      <td>...</td>\n",
       "      <td>...</td>\n",
       "    </tr>\n",
       "    <tr>\n",
       "      <th>15996</th>\n",
       "      <td>[to, make, female, hearts, flutter, in, iraq, ...</td>\n",
       "      <td>0</td>\n",
       "    </tr>\n",
       "    <tr>\n",
       "      <th>15997</th>\n",
       "      <td>[british, liberal, democrat, patsy, calton, di...</td>\n",
       "      <td>0</td>\n",
       "    </tr>\n",
       "    <tr>\n",
       "      <th>15998</th>\n",
       "      <td>[drone, smartphone, app, to, help, heart, atta...</td>\n",
       "      <td>0</td>\n",
       "    </tr>\n",
       "    <tr>\n",
       "      <th>15999</th>\n",
       "      <td>[netanyahu, urges, pope, benedict, in, israel,...</td>\n",
       "      <td>0</td>\n",
       "    </tr>\n",
       "    <tr>\n",
       "      <th>16000</th>\n",
       "      <td>[computer, makers, prepare, to, stake, bigger,...</td>\n",
       "      <td>0</td>\n",
       "    </tr>\n",
       "  </tbody>\n",
       "</table>\n",
       "<p>32000 rows × 2 columns</p>\n",
       "</div>"
      ],
      "text/plain": [
       "                                                   Title  Class\n",
       "0                                [should, i, get, bings]      1\n",
       "1      [which, tv, female, friend, group, do, you, be...      1\n",
       "2      [the, new, star, wars, the, force, awakens, tr...      1\n",
       "3      [this, vine, of, new, york, on, celebrity, big...      1\n",
       "4      [a, couple, did, a, stunning, photo, shoot, wi...      1\n",
       "...                                                  ...    ...\n",
       "15996  [to, make, female, hearts, flutter, in, iraq, ...      0\n",
       "15997  [british, liberal, democrat, patsy, calton, di...      0\n",
       "15998  [drone, smartphone, app, to, help, heart, atta...      0\n",
       "15999  [netanyahu, urges, pope, benedict, in, israel,...      0\n",
       "16000  [computer, makers, prepare, to, stake, bigger,...      0\n",
       "\n",
       "[32000 rows x 2 columns]"
      ]
     },
     "execution_count": 16,
     "metadata": {},
     "output_type": "execute_result"
    }
   ],
   "source": [
    "df"
   ]
  },
  {
   "cell_type": "markdown",
   "id": "d45c8f15",
   "metadata": {},
   "source": [
    "## 2.4 Removing Stop words:"
   ]
  },
  {
   "cell_type": "code",
   "execution_count": 17,
   "id": "e963ac08",
   "metadata": {},
   "outputs": [
    {
     "name": "stderr",
     "output_type": "stream",
     "text": [
      "[nltk_data] Downloading package stopwords to\n",
      "[nltk_data]     C:\\Users\\aorus\\AppData\\Roaming\\nltk_data...\n",
      "[nltk_data]   Package stopwords is already up-to-date!\n"
     ]
    },
    {
     "data": {
      "text/plain": [
       "True"
      ]
     },
     "execution_count": 17,
     "metadata": {},
     "output_type": "execute_result"
    }
   ],
   "source": [
    "import nltk\n",
    "nltk.download('stopwords')"
   ]
  },
  {
   "cell_type": "code",
   "execution_count": 18,
   "id": "9839ca38",
   "metadata": {},
   "outputs": [],
   "source": [
    "stopwords_english = set(stopwords.words('english'))\n",
    "def clean_words(title):\n",
    "    return [\n",
    "    word for word in title\n",
    "    if word not in stopwords_english\n",
    "]"
   ]
  },
  {
   "cell_type": "code",
   "execution_count": 19,
   "id": "ea948f6d",
   "metadata": {},
   "outputs": [],
   "source": [
    "df['Title'] = df['Title'].apply(clean_words)"
   ]
  },
  {
   "cell_type": "code",
   "execution_count": 20,
   "id": "9a576d8d",
   "metadata": {},
   "outputs": [
    {
     "data": {
      "text/html": [
       "<div>\n",
       "<style scoped>\n",
       "    .dataframe tbody tr th:only-of-type {\n",
       "        vertical-align: middle;\n",
       "    }\n",
       "\n",
       "    .dataframe tbody tr th {\n",
       "        vertical-align: top;\n",
       "    }\n",
       "\n",
       "    .dataframe thead th {\n",
       "        text-align: right;\n",
       "    }\n",
       "</style>\n",
       "<table border=\"1\" class=\"dataframe\">\n",
       "  <thead>\n",
       "    <tr style=\"text-align: right;\">\n",
       "      <th></th>\n",
       "      <th>Title</th>\n",
       "      <th>Class</th>\n",
       "    </tr>\n",
       "  </thead>\n",
       "  <tbody>\n",
       "    <tr>\n",
       "      <th>0</th>\n",
       "      <td>[get, bings]</td>\n",
       "      <td>1</td>\n",
       "    </tr>\n",
       "    <tr>\n",
       "      <th>1</th>\n",
       "      <td>[tv, female, friend, group, belong]</td>\n",
       "      <td>1</td>\n",
       "    </tr>\n",
       "    <tr>\n",
       "      <th>2</th>\n",
       "      <td>[new, star, wars, force, awakens, trailer, giv...</td>\n",
       "      <td>1</td>\n",
       "    </tr>\n",
       "    <tr>\n",
       "      <th>3</th>\n",
       "      <td>[vine, new, york, celebrity, big, brother, fuc...</td>\n",
       "      <td>1</td>\n",
       "    </tr>\n",
       "    <tr>\n",
       "      <th>4</th>\n",
       "      <td>[couple, stunning, photo, shoot, baby, learnin...</td>\n",
       "      <td>1</td>\n",
       "    </tr>\n",
       "    <tr>\n",
       "      <th>...</th>\n",
       "      <td>...</td>\n",
       "      <td>...</td>\n",
       "    </tr>\n",
       "    <tr>\n",
       "      <th>15996</th>\n",
       "      <td>[make, female, hearts, flutter, iraq, throw, s...</td>\n",
       "      <td>0</td>\n",
       "    </tr>\n",
       "    <tr>\n",
       "      <th>15997</th>\n",
       "      <td>[british, liberal, democrat, patsy, calton, di...</td>\n",
       "      <td>0</td>\n",
       "    </tr>\n",
       "    <tr>\n",
       "      <th>15998</th>\n",
       "      <td>[drone, smartphone, app, help, heart, attack, ...</td>\n",
       "      <td>0</td>\n",
       "    </tr>\n",
       "    <tr>\n",
       "      <th>15999</th>\n",
       "      <td>[netanyahu, urges, pope, benedict, israel, den...</td>\n",
       "      <td>0</td>\n",
       "    </tr>\n",
       "    <tr>\n",
       "      <th>16000</th>\n",
       "      <td>[computer, makers, prepare, stake, bigger, cla...</td>\n",
       "      <td>0</td>\n",
       "    </tr>\n",
       "  </tbody>\n",
       "</table>\n",
       "<p>32000 rows × 2 columns</p>\n",
       "</div>"
      ],
      "text/plain": [
       "                                                   Title  Class\n",
       "0                                           [get, bings]      1\n",
       "1                    [tv, female, friend, group, belong]      1\n",
       "2      [new, star, wars, force, awakens, trailer, giv...      1\n",
       "3      [vine, new, york, celebrity, big, brother, fuc...      1\n",
       "4      [couple, stunning, photo, shoot, baby, learnin...      1\n",
       "...                                                  ...    ...\n",
       "15996  [make, female, hearts, flutter, iraq, throw, s...      0\n",
       "15997  [british, liberal, democrat, patsy, calton, di...      0\n",
       "15998  [drone, smartphone, app, help, heart, attack, ...      0\n",
       "15999  [netanyahu, urges, pope, benedict, israel, den...      0\n",
       "16000  [computer, makers, prepare, stake, bigger, cla...      0\n",
       "\n",
       "[32000 rows x 2 columns]"
      ]
     },
     "execution_count": 20,
     "metadata": {},
     "output_type": "execute_result"
    }
   ],
   "source": [
    "df"
   ]
  },
  {
   "cell_type": "markdown",
   "id": "0a42a78b",
   "metadata": {},
   "source": [
    "## 2.5 Stemming:"
   ]
  },
  {
   "cell_type": "code",
   "execution_count": 21,
   "id": "4a540687",
   "metadata": {},
   "outputs": [],
   "source": [
    "stemmer = PorterStemmer()\n",
    "def words_stems(title):\n",
    "    return [\n",
    "    stemmer.stem(word) for word in title\n",
    "] "
   ]
  },
  {
   "cell_type": "code",
   "execution_count": 22,
   "id": "abafb591",
   "metadata": {},
   "outputs": [],
   "source": [
    "df['Title'] =df['Title'].apply(words_stems)\n"
   ]
  },
  {
   "cell_type": "code",
   "execution_count": 23,
   "id": "4b8ccb88",
   "metadata": {
    "scrolled": false
   },
   "outputs": [
    {
     "data": {
      "text/html": [
       "<div>\n",
       "<style scoped>\n",
       "    .dataframe tbody tr th:only-of-type {\n",
       "        vertical-align: middle;\n",
       "    }\n",
       "\n",
       "    .dataframe tbody tr th {\n",
       "        vertical-align: top;\n",
       "    }\n",
       "\n",
       "    .dataframe thead th {\n",
       "        text-align: right;\n",
       "    }\n",
       "</style>\n",
       "<table border=\"1\" class=\"dataframe\">\n",
       "  <thead>\n",
       "    <tr style=\"text-align: right;\">\n",
       "      <th></th>\n",
       "      <th>Title</th>\n",
       "      <th>Class</th>\n",
       "    </tr>\n",
       "  </thead>\n",
       "  <tbody>\n",
       "    <tr>\n",
       "      <th>0</th>\n",
       "      <td>[get, bing]</td>\n",
       "      <td>1</td>\n",
       "    </tr>\n",
       "    <tr>\n",
       "      <th>1</th>\n",
       "      <td>[tv, femal, friend, group, belong]</td>\n",
       "      <td>1</td>\n",
       "    </tr>\n",
       "    <tr>\n",
       "      <th>2</th>\n",
       "      <td>[new, star, war, forc, awaken, trailer, give, ...</td>\n",
       "      <td>1</td>\n",
       "    </tr>\n",
       "    <tr>\n",
       "      <th>3</th>\n",
       "      <td>[vine, new, york, celebr, big, brother, fuck, ...</td>\n",
       "      <td>1</td>\n",
       "    </tr>\n",
       "    <tr>\n",
       "      <th>4</th>\n",
       "      <td>[coupl, stun, photo, shoot, babi, learn, inope...</td>\n",
       "      <td>1</td>\n",
       "    </tr>\n",
       "    <tr>\n",
       "      <th>...</th>\n",
       "      <td>...</td>\n",
       "      <td>...</td>\n",
       "    </tr>\n",
       "    <tr>\n",
       "      <th>15996</th>\n",
       "      <td>[make, femal, heart, flutter, iraq, throw, shoe]</td>\n",
       "      <td>0</td>\n",
       "    </tr>\n",
       "    <tr>\n",
       "      <th>15997</th>\n",
       "      <td>[british, liber, democrat, patsi, calton, die,...</td>\n",
       "      <td>0</td>\n",
       "    </tr>\n",
       "    <tr>\n",
       "      <th>15998</th>\n",
       "      <td>[drone, smartphon, app, help, heart, attack, v...</td>\n",
       "      <td>0</td>\n",
       "    </tr>\n",
       "    <tr>\n",
       "      <th>15999</th>\n",
       "      <td>[netanyahu, urg, pope, benedict, israel, denou...</td>\n",
       "      <td>0</td>\n",
       "    </tr>\n",
       "    <tr>\n",
       "      <th>16000</th>\n",
       "      <td>[comput, maker, prepar, stake, bigger, claim, ...</td>\n",
       "      <td>0</td>\n",
       "    </tr>\n",
       "  </tbody>\n",
       "</table>\n",
       "<p>32000 rows × 2 columns</p>\n",
       "</div>"
      ],
      "text/plain": [
       "                                                   Title  Class\n",
       "0                                            [get, bing]      1\n",
       "1                     [tv, femal, friend, group, belong]      1\n",
       "2      [new, star, war, forc, awaken, trailer, give, ...      1\n",
       "3      [vine, new, york, celebr, big, brother, fuck, ...      1\n",
       "4      [coupl, stun, photo, shoot, babi, learn, inope...      1\n",
       "...                                                  ...    ...\n",
       "15996   [make, femal, heart, flutter, iraq, throw, shoe]      0\n",
       "15997  [british, liber, democrat, patsi, calton, die,...      0\n",
       "15998  [drone, smartphon, app, help, heart, attack, v...      0\n",
       "15999  [netanyahu, urg, pope, benedict, israel, denou...      0\n",
       "16000  [comput, maker, prepar, stake, bigger, claim, ...      0\n",
       "\n",
       "[32000 rows x 2 columns]"
      ]
     },
     "execution_count": 23,
     "metadata": {},
     "output_type": "execute_result"
    }
   ],
   "source": [
    "df"
   ]
  },
  {
   "cell_type": "markdown",
   "id": "8f455315",
   "metadata": {},
   "source": [
    "# Data Visualisation:"
   ]
  },
  {
   "cell_type": "code",
   "execution_count": 24,
   "id": "22254214",
   "metadata": {},
   "outputs": [],
   "source": [
    "wordcloud = WordCloud().generate(str(df['Title']))"
   ]
  },
  {
   "cell_type": "code",
   "execution_count": 25,
   "id": "de7fe93c",
   "metadata": {
    "scrolled": true
   },
   "outputs": [
    {
     "data": {
      "image/png": "[encoded data removed]",
      "text/plain": [
       "<Figure size 432x288 with 1 Axes>"
      ]
     },
     "metadata": {
      "needs_background": "light"
     },
     "output_type": "display_data"
    }
   ],
   "source": [
    "plt.imshow(wordcloud, interpolation = \"bilinear\")\n",
    "plt.axis(\"off\")\n",
    "plt.show()"
   ]
  },
  {
   "cell_type": "code",
   "execution_count": 26,
   "id": "0b0e5148",
   "metadata": {},
   "outputs": [],
   "source": [
    "df_click = df[df['Class'] == 1]\n",
    "wordcloud_click = WordCloud().generate(str(df_click['Title']))\n",
    "        \n",
    "    "
   ]
  },
  {
   "cell_type": "code",
   "execution_count": 27,
   "id": "f0fcec30",
   "metadata": {
    "scrolled": true
   },
   "outputs": [
    {
     "data": {
      "image/png": "[encoded data removed]",
      "text/plain": [
       "<Figure size 432x288 with 1 Axes>"
      ]
     },
     "metadata": {
      "needs_background": "light"
     },
     "output_type": "display_data"
    }
   ],
   "source": [
    "plt.imshow(wordcloud_click, interpolation = \"bilinear\")\n",
    "plt.axis(\"off\")\n",
    "plt.show()"
   ]
  },
  {
   "cell_type": "code",
   "execution_count": 28,
   "id": "d51d78d2",
   "metadata": {},
   "outputs": [],
   "source": [
    "df_non_click = df[df['Class'] == 0]\n",
    "wordcloud_non_click = WordCloud().generate(str(df_non_click['Title']))"
   ]
  },
  {
   "cell_type": "code",
   "execution_count": 29,
   "id": "6a91d12e",
   "metadata": {
    "scrolled": true
   },
   "outputs": [
    {
     "data": {
      "image/png": "[encoded data removed]",
      "text/plain": [
       "<Figure size 432x288 with 1 Axes>"
      ]
     },
     "metadata": {
      "needs_background": "light"
     },
     "output_type": "display_data"
    }
   ],
   "source": [
    "plt.imshow(wordcloud_non_click, interpolation = \"bilinear\")\n",
    "plt.axis(\"off\")\n",
    "plt.show()"
   ]
  },
  {
   "cell_type": "markdown",
   "id": "4f2fc6db",
   "metadata": {},
   "source": [
    ">## Building word-frequency dictionary:"
   ]
  },
  {
   "cell_type": "code",
   "execution_count": 30,
   "id": "9dba922e",
   "metadata": {},
   "outputs": [],
   "source": [
    "bait_words = df.loc[df['Class'] == 1]\n",
    "normal_words = df.loc[df['Class'] == 0]"
   ]
  },
  {
   "cell_type": "code",
   "execution_count": 31,
   "id": "7fefe171",
   "metadata": {},
   "outputs": [],
   "source": [
    "bait_freq = dict(Counter([val for sublist in bait_words['Title']\n",
    "                          for val in sublist]))\n",
    "normal_freq = dict(Counter([val for sublist in normal_words['Title'] \n",
    "                            for val in sublist]))"
   ]
  },
  {
   "cell_type": "code",
   "execution_count": 32,
   "id": "296b0442",
   "metadata": {},
   "outputs": [
    {
     "data": {
      "text/plain": [
       "{'get': 387,\n",
       " 'bing': 7,\n",
       " 'tv': 128,\n",
       " 'femal': 30,\n",
       " 'friend': 226,\n",
       " 'group': 41,\n",
       " 'belong': 61,\n",
       " 'new': 442,\n",
       " 'star': 232,\n",
       " 'war': 141,\n",
       " 'forc': 46,\n",
       " 'awaken': 61,\n",
       " 'trailer': 53,\n",
       " 'give': 142,\n",
       " 'chill': 54,\n",
       " 'vine': 34,\n",
       " 'york': 40,\n",
       " 'celebr': 245,\n",
       " 'big': 54,\n",
       " 'brother': 28,\n",
       " 'fuck': 135,\n",
       " 'perfect': 173,\n",
       " 'coupl': 133,\n",
       " 'stun': 35,\n",
       " 'photo': 343,\n",
       " 'shoot': 21,\n",
       " 'babi': 115,\n",
       " 'learn': 61,\n",
       " 'inoper': 1,\n",
       " 'brain': 18,\n",
       " 'tumor': 1,\n",
       " 'flirt': 8,\n",
       " 'queer': 18,\n",
       " 'girl': 294,\n",
       " 'without': 68,\n",
       " 'make': 860,\n",
       " 'total': 165,\n",
       " 'fool': 6,\n",
       " 'cute': 89,\n",
       " 'thing': 1181,\n",
       " 'distract': 1,\n",
       " 'awkward': 54,\n",
       " 'thanksgiv': 106,\n",
       " 'disney': 217,\n",
       " 'princess': 65,\n",
       " 'florida': 12,\n",
       " 'what': 199,\n",
       " 'quot': 110,\n",
       " 'lyric': 105,\n",
       " 'best': 470,\n",
       " 'describ': 24,\n",
       " 'depress': 59,\n",
       " 'natali': 8,\n",
       " 'dormer': 5,\n",
       " 'sam': 4,\n",
       " 'claflin': 1,\n",
       " 'play': 103,\n",
       " 'game': 237,\n",
       " 'see': 188,\n",
       " 'theyd': 3,\n",
       " 'actual': 631,\n",
       " 'last': 65,\n",
       " 'hunger': 22,\n",
       " 'respons': 46,\n",
       " 'indian': 79,\n",
       " 'patriarchi': 7,\n",
       " 'time': 820,\n",
       " 'die': 61,\n",
       " 'captain': 4,\n",
       " 'america': 59,\n",
       " 'civil': 4,\n",
       " 'teaser': 8,\n",
       " 'kourtney': 5,\n",
       " 'kardashian': 83,\n",
       " 'shut': 32,\n",
       " 'famili': 82,\n",
       " 'coffe': 30,\n",
       " 'poop': 9,\n",
       " 'ex': 19,\n",
       " 'base': 608,\n",
       " 'zodiac': 295,\n",
       " 'hairdress': 4,\n",
       " 'struggl': 122,\n",
       " 'everi': 332,\n",
       " 'black': 126,\n",
       " 'know': 851,\n",
       " 'true': 118,\n",
       " 'walter': 3,\n",
       " 'white': 47,\n",
       " 'heisenberg': 1,\n",
       " 'canadian': 91,\n",
       " 'groom': 14,\n",
       " 'ever': 330,\n",
       " 'left': 10,\n",
       " 'wed': 130,\n",
       " 'plow': 2,\n",
       " 'guest': 17,\n",
       " 'snow': 13,\n",
       " 'storm': 10,\n",
       " 'here': 423,\n",
       " 'one': 300,\n",
       " 'realli': 238,\n",
       " 'weird': 78,\n",
       " 'butterfre': 1,\n",
       " 'resolut': 22,\n",
       " 'good': 95,\n",
       " 'tri': 328,\n",
       " 'zoo': 7,\n",
       " 'anim': 138,\n",
       " 'around': 64,\n",
       " 'world': 192,\n",
       " 'open': 40,\n",
       " 'christma': 229,\n",
       " 'present': 23,\n",
       " 'earli': 28,\n",
       " 'tell': 222,\n",
       " 'us': 223,\n",
       " 'yourselfi': 23,\n",
       " 'erica': 1,\n",
       " 'ash': 2,\n",
       " 'cri': 60,\n",
       " 'vegetarian': 9,\n",
       " 'dump': 14,\n",
       " 'dinner': 63,\n",
       " 'crock': 5,\n",
       " 'pot': 7,\n",
       " 'goat': 7,\n",
       " 'bulli': 6,\n",
       " 'tiger': 4,\n",
       " 'fall': 110,\n",
       " 'show': 249,\n",
       " 'excit': 27,\n",
       " 'chanc': 7,\n",
       " 'avoid': 8,\n",
       " 'anoth': 30,\n",
       " 'round': 18,\n",
       " 'episod': 57,\n",
       " 'stop': 95,\n",
       " 'women': 228,\n",
       " 'smile': 28,\n",
       " 'sign': 326,\n",
       " 'stubborn': 2,\n",
       " 'live': 189,\n",
       " 'countri': 23,\n",
       " 'singer': 11,\n",
       " 'music': 141,\n",
       " 'boy': 45,\n",
       " 'spare': 2,\n",
       " 'realiz': 17,\n",
       " 'guy': 218,\n",
       " 'taken': 15,\n",
       " 'awesom': 66,\n",
       " 'look': 437,\n",
       " 'behindthescen': 12,\n",
       " 'concept': 2,\n",
       " 'art': 51,\n",
       " 'aladdin': 8,\n",
       " 'sarah': 13,\n",
       " 'jessica': 27,\n",
       " 'parker': 4,\n",
       " 'talk': 148,\n",
       " 'carri': 17,\n",
       " 'hocu': 10,\n",
       " 'pocu': 10,\n",
       " 'love': 369,\n",
       " 'type': 57,\n",
       " 'swearer': 1,\n",
       " 'dad': 90,\n",
       " 'record': 17,\n",
       " 'ador': 162,\n",
       " 'question': 315,\n",
       " 'son': 35,\n",
       " 'ask': 116,\n",
       " 'watch': 222,\n",
       " 'first': 245,\n",
       " 'imposs': 34,\n",
       " 'stylish': 11,\n",
       " 'cat': 166,\n",
       " 'gift': 186,\n",
       " 'order': 22,\n",
       " 'gloriou': 19,\n",
       " 'madeup': 3,\n",
       " 'word': 113,\n",
       " 'literatur': 11,\n",
       " 'prank': 16,\n",
       " 'bunch': 33,\n",
       " 'peopl': 926,\n",
       " 'drop': 32,\n",
       " 'iphon': 31,\n",
       " 'front': 10,\n",
       " 'flaw': 4,\n",
       " 'sneakerhead': 1,\n",
       " 'choos': 25,\n",
       " 'grime': 2,\n",
       " 'album': 60,\n",
       " 'heartbreak': 37,\n",
       " 'inspir': 63,\n",
       " 'behind': 17,\n",
       " 'oblivion': 1,\n",
       " 'instagram': 187,\n",
       " 'account': 31,\n",
       " 'recreat': 32,\n",
       " 'greatest': 47,\n",
       " 'hit': 36,\n",
       " 'barbi': 11,\n",
       " 'adel': 83,\n",
       " 'meme': 59,\n",
       " 'pictur': 295,\n",
       " 'hot': 112,\n",
       " 'never': 223,\n",
       " 'understand': 252,\n",
       " 'badli': 2,\n",
       " 'take': 173,\n",
       " 'direct': 42,\n",
       " 'hiatu': 1,\n",
       " 'want': 242,\n",
       " 'pinterest': 15,\n",
       " 'leaf': 3,\n",
       " 'hack': 47,\n",
       " 'tip': 57,\n",
       " 'hike': 3,\n",
       " 'kid': 222,\n",
       " 'parent': 99,\n",
       " 'scariest': 6,\n",
       " 'halloween': 239,\n",
       " 'candi': 45,\n",
       " 'tast': 60,\n",
       " 'test': 140,\n",
       " 'dog': 220,\n",
       " 'beg': 4,\n",
       " 'human': 69,\n",
       " 'forgiv': 1,\n",
       " 'cutest': 44,\n",
       " 'youll': 245,\n",
       " 'today': 74,\n",
       " 'year': 289,\n",
       " 'bollywood': 30,\n",
       " 'cinema': 2,\n",
       " 'four': 20,\n",
       " 'minut': 44,\n",
       " 'ed': 18,\n",
       " 'westwick': 2,\n",
       " 'emmi': 42,\n",
       " 'parti': 61,\n",
       " 'like': 514,\n",
       " 'chuck': 3,\n",
       " 'bass': 2,\n",
       " 'dream': 51,\n",
       " 'favorit': 279,\n",
       " 'activ': 10,\n",
       " 'visit': 30,\n",
       " 'color': 119,\n",
       " 'far': 42,\n",
       " 'youd': 23,\n",
       " 'go': 169,\n",
       " 'brave': 11,\n",
       " 'enough': 13,\n",
       " 'date': 147,\n",
       " 'werewolf': 2,\n",
       " 'everyon': 301,\n",
       " 'hate': 89,\n",
       " 'pda': 2,\n",
       " 'alway': 46,\n",
       " 'happen': 277,\n",
       " 'offic': 64,\n",
       " 'mani': 84,\n",
       " 'spongebob': 11,\n",
       " 'face': 90,\n",
       " 'recogn': 29,\n",
       " 'golden': 43,\n",
       " 'globe': 35,\n",
       " 'reaction': 44,\n",
       " 'reason': 260,\n",
       " 'trip': 11,\n",
       " 'costa': 1,\n",
       " 'rica': 1,\n",
       " 'could': 74,\n",
       " 'chang': 94,\n",
       " 'life': 389,\n",
       " 'liter': 91,\n",
       " 'scotland': 10,\n",
       " 'sexi': 37,\n",
       " 'hell': 34,\n",
       " 'mildli': 18,\n",
       " 'annoy': 24,\n",
       " 'anyon': 148,\n",
       " 'someon': 93,\n",
       " 'messi': 8,\n",
       " 'place': 70,\n",
       " 'lover': 68,\n",
       " 'london': 35,\n",
       " 'hotlin': 24,\n",
       " 'bling': 23,\n",
       " 'drake': 56,\n",
       " 'weasley': 4,\n",
       " 'book': 162,\n",
       " 'immedi': 38,\n",
       " 'organis': 1,\n",
       " 'launch': 3,\n",
       " 'india': 63,\n",
       " 'transgend': 9,\n",
       " 'model': 67,\n",
       " 'agenc': 2,\n",
       " 'request': 4,\n",
       " 'timeout': 1,\n",
       " 'issa': 1,\n",
       " 'rae': 5,\n",
       " 'insecur': 5,\n",
       " 'come': 58,\n",
       " 'hbo': 4,\n",
       " 'long': 39,\n",
       " 'well': 245,\n",
       " 'pretti': 59,\n",
       " 'littl': 109,\n",
       " 'liar': 18,\n",
       " 'youv': 137,\n",
       " 'use': 140,\n",
       " 'rice': 9,\n",
       " 'cooker': 19,\n",
       " 'wrong': 52,\n",
       " 'entir': 34,\n",
       " 'actor': 45,\n",
       " 'nomin': 7,\n",
       " 'oscar': 39,\n",
       " 'piss': 10,\n",
       " 'nail': 57,\n",
       " 'modern': 12,\n",
       " 'day': 232,\n",
       " 'would': 249,\n",
       " 'easi': 106,\n",
       " 'delici': 119,\n",
       " 'onepan': 2,\n",
       " 'breakfast': 39,\n",
       " 'magic': 58,\n",
       " 'wand': 6,\n",
       " 'charli': 6,\n",
       " 'xcx': 1,\n",
       " 'space': 30,\n",
       " 'dominatrix': 1,\n",
       " 'mtv': 18,\n",
       " 'ema': 18,\n",
       " 'aveng': 8,\n",
       " 'origin': 29,\n",
       " 'comic': 40,\n",
       " 'urin': 4,\n",
       " 'worst': 122,\n",
       " 'invent': 14,\n",
       " 'free': 22,\n",
       " 'car': 24,\n",
       " 'oprah': 12,\n",
       " 'tub': 2,\n",
       " 'vaselin': 1,\n",
       " 'tyra': 7,\n",
       " 'crime': 13,\n",
       " 'commit': 5,\n",
       " 'beauti': 194,\n",
       " 'feel': 177,\n",
       " 'rid': 7,\n",
       " 'acn': 8,\n",
       " 'bodi': 53,\n",
       " 'yearold': 63,\n",
       " 'got': 165,\n",
       " 'drunk': 57,\n",
       " 'accident': 24,\n",
       " 'insan': 143,\n",
       " 'vacat': 11,\n",
       " 'buy': 48,\n",
       " 'leona': 1,\n",
       " 'lewiss': 1,\n",
       " 'exclus': 6,\n",
       " 'grindr': 4,\n",
       " 'dessert': 66,\n",
       " 'arent': 50,\n",
       " 'pie': 26,\n",
       " 'jason': 10,\n",
       " 'aldean': 1,\n",
       " 'wore': 35,\n",
       " 'blackfac': 2,\n",
       " 'dress': 76,\n",
       " 'lil': 7,\n",
       " 'wayn': 3,\n",
       " 'colleg': 92,\n",
       " 'suck': 24,\n",
       " 'hardest': 36,\n",
       " 'next': 57,\n",
       " 'top': 37,\n",
       " 'quiz': 87,\n",
       " 'determin': 83,\n",
       " 'masturb': 13,\n",
       " 'romant': 24,\n",
       " 'line': 42,\n",
       " 'ya': 19,\n",
       " 'report': 20,\n",
       " 'respond': 21,\n",
       " 'vulgar': 1,\n",
       " 'comment': 36,\n",
       " 'mama': 2,\n",
       " 'joke': 51,\n",
       " 'smooth': 2,\n",
       " 'af': 107,\n",
       " 'bart': 1,\n",
       " 'lisa': 6,\n",
       " 'compat': 3,\n",
       " 'rememb': 171,\n",
       " 'vampir': 12,\n",
       " 'diari': 8,\n",
       " 'murder': 26,\n",
       " 'hous': 106,\n",
       " 'sabrina': 2,\n",
       " 'teenag': 23,\n",
       " 'witch': 15,\n",
       " 'grew': 33,\n",
       " 'san': 19,\n",
       " 'francisco': 13,\n",
       " 'say': 164,\n",
       " 'chronic': 3,\n",
       " 'pain': 27,\n",
       " 'hear': 66,\n",
       " 'amaz': 116,\n",
       " 'bodycon': 1,\n",
       " 'wan': 3,\n",
       " 'na': 11,\n",
       " 'rock': 52,\n",
       " 'there': 36,\n",
       " 'box': 14,\n",
       " 'cater': 3,\n",
       " 'taught': 27,\n",
       " 'grandma': 23,\n",
       " 'nae': 9,\n",
       " 'product': 114,\n",
       " 'embrac': 5,\n",
       " 'inner': 13,\n",
       " 'kany': 50,\n",
       " 'draw': 19,\n",
       " 'hand': 29,\n",
       " 'mayb': 7,\n",
       " 'identifi': 78,\n",
       " 'movi': 357,\n",
       " 'main': 5,\n",
       " 'charact': 363,\n",
       " 'bff': 69,\n",
       " 'tweet': 304,\n",
       " 'prove': 175,\n",
       " 'real': 274,\n",
       " 'dick': 19,\n",
       " 'sometim': 5,\n",
       " 'badass': 47,\n",
       " 'ladi': 68,\n",
       " 'valentin': 80,\n",
       " 'anna': 14,\n",
       " 'camp': 10,\n",
       " 'skylar': 1,\n",
       " 'astin': 1,\n",
       " 'engag': 25,\n",
       " 'everyth': 114,\n",
       " 'final': 59,\n",
       " 'right': 147,\n",
       " 'pretend': 13,\n",
       " 'faint': 3,\n",
       " 'react': 28,\n",
       " 'smith': 18,\n",
       " 'fake': 40,\n",
       " 'esp': 1,\n",
       " 'biryani': 2,\n",
       " 'brace': 6,\n",
       " 'way': 497,\n",
       " 'surpris': 64,\n",
       " 'militari': 6,\n",
       " 'homecom': 6,\n",
       " 'elf': 20,\n",
       " 'honest': 79,\n",
       " 'privat': 1,\n",
       " 'session': 5,\n",
       " 'post': 104,\n",
       " 'coconut': 2,\n",
       " 'oil': 2,\n",
       " 'answer': 88,\n",
       " 'problem': 38,\n",
       " 'item': 33,\n",
       " 'burger': 26,\n",
       " 'need': 517,\n",
       " 'confess': 151,\n",
       " 'slightli': 40,\n",
       " 'obsess': 114,\n",
       " 'outer': 5,\n",
       " 'ferrel': 5,\n",
       " 'santa': 46,\n",
       " 'mark': 15,\n",
       " 'ruffalo': 4,\n",
       " 'shirtless': 7,\n",
       " 'pic': 24,\n",
       " 'promot': 8,\n",
       " 'breast': 11,\n",
       " 'cancer': 21,\n",
       " 'awar': 3,\n",
       " 'men': 124,\n",
       " 'nobodi': 6,\n",
       " 'job': 35,\n",
       " 'pinki': 2,\n",
       " 'addit': 1,\n",
       " 'made': 174,\n",
       " 'yet': 12,\n",
       " 'priyanka': 12,\n",
       " 'chopra': 13,\n",
       " 'goddamn': 22,\n",
       " 'own': 14,\n",
       " 'tumblr': 93,\n",
       " 'fourperson': 1,\n",
       " 'slay': 42,\n",
       " 'eyeshadow': 3,\n",
       " 'probabl': 86,\n",
       " 'shouldnt': 17,\n",
       " 'illustr': 29,\n",
       " 'lesli': 15,\n",
       " 'knope': 12,\n",
       " 'compliment': 7,\n",
       " 'theyr': 39,\n",
       " 'damn': 84,\n",
       " 'cool': 48,\n",
       " 'dont': 114,\n",
       " 'david': 56,\n",
       " 'bowi': 30,\n",
       " 'clear': 6,\n",
       " 'gay': 45,\n",
       " 'drama': 12,\n",
       " 'teacher': 29,\n",
       " 'perfectli': 139,\n",
       " 'mother': 20,\n",
       " 'pull': 9,\n",
       " 'class': 19,\n",
       " 'server': 5,\n",
       " 'internet': 100,\n",
       " 'guess': 235,\n",
       " 'chip': 11,\n",
       " 'smash': 10,\n",
       " 'spell': 15,\n",
       " 'blair': 4,\n",
       " 'serena': 9,\n",
       " 'tire': 27,\n",
       " 'weekend': 25,\n",
       " 'therapi': 10,\n",
       " 'buff': 3,\n",
       " 'john': 34,\n",
       " 'krasinski': 10,\n",
       " 'hour': 10,\n",
       " 'hard': 40,\n",
       " 'handl': 15,\n",
       " 'obscur': 6,\n",
       " 'sweari': 3,\n",
       " 'british': 67,\n",
       " 'rare': 12,\n",
       " 'albert': 1,\n",
       " 'einstein': 1,\n",
       " 'seen': 49,\n",
       " 'kendrick': 11,\n",
       " 'sampson': 1,\n",
       " 'htgawm': 1,\n",
       " 'ultim': 31,\n",
       " 'bae': 12,\n",
       " 'mumbai': 14,\n",
       " 'send': 38,\n",
       " 'power': 48,\n",
       " 'messag': 22,\n",
       " 'support': 10,\n",
       " 'solidar': 2,\n",
       " 'pari': 26,\n",
       " 'thought': 84,\n",
       " 'stalk': 4,\n",
       " 'exe': 8,\n",
       " 'facebook': 65,\n",
       " 'im': 39,\n",
       " 'immigr': 3,\n",
       " 'chees': 48,\n",
       " 'sum': 98,\n",
       " 'silli': 4,\n",
       " 'daili': 10,\n",
       " 'mail': 3,\n",
       " 'reenact': 4,\n",
       " 'said': 87,\n",
       " 'leader': 5,\n",
       " 'shitton': 1,\n",
       " 'lesbian': 46,\n",
       " 'subtext': 1,\n",
       " 'captur': 58,\n",
       " 'experi': 35,\n",
       " 'bean': 5,\n",
       " 'twitter': 91,\n",
       " 'matter': 8,\n",
       " 'thatll': 142,\n",
       " 'wtf': 30,\n",
       " 'secondari': 3,\n",
       " 'vs': 87,\n",
       " 'potato': 22,\n",
       " 'recip': 88,\n",
       " 'illeg': 3,\n",
       " 'chart': 49,\n",
       " 'graph': 4,\n",
       " 'jame': 26,\n",
       " 'bond': 18,\n",
       " 'fan': 179,\n",
       " 'season': 80,\n",
       " 'buffi': 5,\n",
       " 'jerseyan': 1,\n",
       " 'ace': 4,\n",
       " 'diy': 46,\n",
       " 'oreo': 11,\n",
       " 'churro': 2,\n",
       " 'nextlevel': 6,\n",
       " 'classic': 45,\n",
       " 'nerd': 20,\n",
       " 'hilari': 252,\n",
       " 'appreci': 38,\n",
       " 'walk': 31,\n",
       " 'dead': 34,\n",
       " 'went': 91,\n",
       " 'boob': 29,\n",
       " 'netflix': 41,\n",
       " 'wound': 2,\n",
       " 'veteran': 7,\n",
       " 'servic': 11,\n",
       " 'man': 131,\n",
       " 'itll': 6,\n",
       " 'bawl': 1,\n",
       " 'youth': 2,\n",
       " 'footbal': 29,\n",
       " 'player': 18,\n",
       " 'quit': 17,\n",
       " 'whipna': 1,\n",
       " 'birthday': 33,\n",
       " 'cake': 44,\n",
       " 'fashion': 54,\n",
       " 'dear': 17,\n",
       " 'advic': 48,\n",
       " 'butt': 20,\n",
       " 'dirti': 12,\n",
       " 'pass': 26,\n",
       " 'environment': 1,\n",
       " 'scienc': 33,\n",
       " 'your': 299,\n",
       " 'bath': 12,\n",
       " 'amber': 10,\n",
       " 'rose': 30,\n",
       " 'lot': 31,\n",
       " 'import': 76,\n",
       " 'lesson': 27,\n",
       " 'gamechang': 1,\n",
       " 'eyelin': 11,\n",
       " 'makeup': 127,\n",
       " 'old': 82,\n",
       " 'terribl': 30,\n",
       " 'start': 49,\n",
       " 'campu': 3,\n",
       " 'urban': 11,\n",
       " 'dictionari': 8,\n",
       " 'definit': 108,\n",
       " 'renter': 2,\n",
       " 'insur': 2,\n",
       " 'mic': 2,\n",
       " 'piano': 1,\n",
       " 'that': 21,\n",
       " 'grammi': 22,\n",
       " 'perform': 40,\n",
       " 'hello': 25,\n",
       " 'assumpt': 2,\n",
       " 'singl': 106,\n",
       " 'thirti': 6,\n",
       " 'food': 188,\n",
       " 'electr': 1,\n",
       " 'picnic': 1,\n",
       " 'dragon': 6,\n",
       " 'ball': 19,\n",
       " 'z': 7,\n",
       " 'realist': 12,\n",
       " 'proport': 3,\n",
       " 'ridicul': 63,\n",
       " 'sex': 143,\n",
       " 'costco': 6,\n",
       " 'fail': 56,\n",
       " 'almost': 28,\n",
       " 'xmen': 6,\n",
       " 'slytherin': 9,\n",
       " 'costum': 120,\n",
       " 'acknowledg': 2,\n",
       " 'niall': 8,\n",
       " 'underr': 27,\n",
       " 'member': 29,\n",
       " 'week': 154,\n",
       " 'nick': 13,\n",
       " 'joe': 13,\n",
       " 'jona': 9,\n",
       " 'straight': 25,\n",
       " 'woman': 137,\n",
       " 'tinder': 29,\n",
       " 'tear': 12,\n",
       " 'josh': 9,\n",
       " 'groban': 1,\n",
       " 'kelli': 14,\n",
       " 'clarkson': 3,\n",
       " 'duet': 5,\n",
       " 'slow': 24,\n",
       " 'soup': 14,\n",
       " 'warm': 19,\n",
       " 'bourbon': 2,\n",
       " 'better': 125,\n",
       " 'liz': 4,\n",
       " 'lemon': 6,\n",
       " 'spoke': 8,\n",
       " 'truth': 53,\n",
       " 'magazin': 27,\n",
       " 'nomine': 6,\n",
       " 'brie': 3,\n",
       " 'larson': 2,\n",
       " 'career': 14,\n",
       " 'explain': 32,\n",
       " 'rap': 9,\n",
       " 'fire': 14,\n",
       " 'elect': 13,\n",
       " 'candid': 16,\n",
       " 'canada': 53,\n",
       " 'ooey': 1,\n",
       " 'gooey': 4,\n",
       " 'snack': 29,\n",
       " 'level': 20,\n",
       " 'winner': 22,\n",
       " 'current': 6,\n",
       " 'experienc': 10,\n",
       " 'put': 49,\n",
       " 'tim': 16,\n",
       " 'horton': 4,\n",
       " 'knew': 32,\n",
       " 'short': 27,\n",
       " 'relat': 58,\n",
       " 'winter': 63,\n",
       " 'smoothi': 6,\n",
       " 'jump': 3,\n",
       " 'morn': 22,\n",
       " 'break': 35,\n",
       " 'bad': 52,\n",
       " 'famou': 61,\n",
       " 'punish': 3,\n",
       " 'jami': 10,\n",
       " 'clair': 5,\n",
       " 'outland': 4,\n",
       " 'caillou': 3,\n",
       " 'great': 57,\n",
       " 'tinker': 2,\n",
       " 'bell': 19,\n",
       " 'rihanna': 23,\n",
       " 'work': 124,\n",
       " 'video': 213,\n",
       " 'hurt': 12,\n",
       " 'ryan': 41,\n",
       " 'phillipp': 2,\n",
       " 'ami': 55,\n",
       " 'schumer': 29,\n",
       " 'delet': 9,\n",
       " 'trainwreck': 1,\n",
       " 'scene': 33,\n",
       " 'matthew': 10,\n",
       " 'mcconaughey': 2,\n",
       " 'reach': 7,\n",
       " 'peak': 14,\n",
       " 'mode': 4,\n",
       " 'fact': 61,\n",
       " 'moment': 164,\n",
       " 'starbuck': 20,\n",
       " 'barista': 2,\n",
       " 'deaf': 3,\n",
       " 'custom': 8,\n",
       " 'viral': 26,\n",
       " 'eat': 167,\n",
       " 'leftov': 10,\n",
       " 'physic': 3,\n",
       " 'cant': 80,\n",
       " 'pierc': 6,\n",
       " 'ear': 6,\n",
       " 'adam': 14,\n",
       " 'woodyatt': 1,\n",
       " 'upset': 9,\n",
       " 'howsadam': 1,\n",
       " 'didnt': 88,\n",
       " 'corri': 1,\n",
       " 'octob': 10,\n",
       " 'lego': 9,\n",
       " 'nake': 15,\n",
       " 'mole': 1,\n",
       " 'kim': 43,\n",
       " 'possibl': 25,\n",
       " 'percent': 10,\n",
       " 'vegan': 18,\n",
       " 'orang': 5,\n",
       " 'serious': 26,\n",
       " 'intens': 18,\n",
       " 'perpetu': 3,\n",
       " 'miser': 4,\n",
       " 'holiday': 106,\n",
       " 'squad': 29,\n",
       " 'floral': 1,\n",
       " 'leash': 3,\n",
       " 'crocodil': 2,\n",
       " 'secret': 100,\n",
       " 'pet': 43,\n",
       " 'mindblow': 19,\n",
       " 'harri': 208,\n",
       " 'potter': 161,\n",
       " 'theori': 17,\n",
       " 'avada': 1,\n",
       " 'kedavra': 1,\n",
       " 'curs': 10,\n",
       " 'friday': 26,\n",
       " 'palett': 4,\n",
       " 'sale': 16,\n",
       " 'korean': 4,\n",
       " 'pop': 56,\n",
       " 'stage': 29,\n",
       " 'film': 73,\n",
       " 'pixar': 12,\n",
       " 'tribut': 15,\n",
       " 'brilliant': 26,\n",
       " 'twoperson': 1,\n",
       " 'guarante': 90,\n",
       " 'done': 35,\n",
       " 'dissert': 1,\n",
       " 'rori': 3,\n",
       " 'william': 24,\n",
       " 'much': 138,\n",
       " 'graduat': 7,\n",
       " 'companion': 3,\n",
       " 'doctor': 38,\n",
       " 'legend': 11,\n",
       " 'tomorrow': 1,\n",
       " 'tutori': 9,\n",
       " 'hipster': 11,\n",
       " 'britain': 12,\n",
       " 'percentag': 7,\n",
       " 'bang': 12,\n",
       " 'bangabl': 1,\n",
       " 'pant': 18,\n",
       " 'sick': 24,\n",
       " 'travel': 35,\n",
       " 'cast': 99,\n",
       " 'park': 38,\n",
       " 'rec': 13,\n",
       " 'prefer': 14,\n",
       " 'chri': 40,\n",
       " 'pratt': 15,\n",
       " 'hemsworth': 17,\n",
       " 'american': 96,\n",
       " 'alcohol': 14,\n",
       " 'drink': 71,\n",
       " 'behold': 1,\n",
       " 'terrifi': 35,\n",
       " 'mascot': 8,\n",
       " 'exist': 46,\n",
       " 'geniu': 45,\n",
       " 'chick': 4,\n",
       " 'diva': 12,\n",
       " 'west': 51,\n",
       " 'wiz': 9,\n",
       " 'khalifa': 5,\n",
       " 'offici': 40,\n",
       " 'eye': 40,\n",
       " 'contact': 8,\n",
       " 'lastminut': 12,\n",
       " 'stock': 15,\n",
       " 'stuffer': 2,\n",
       " 'fandom': 9,\n",
       " 'green': 21,\n",
       " 'mm': 4,\n",
       " 'horni': 1,\n",
       " 'piec': 31,\n",
       " 'evid': 3,\n",
       " 'fari': 5,\n",
       " 'male': 19,\n",
       " 'letter': 34,\n",
       " 'name': 193,\n",
       " 'michael': 38,\n",
       " 'b': 6,\n",
       " 'jordan': 5,\n",
       " 'laid': 2,\n",
       " 'creed': 4,\n",
       " 'night': 58,\n",
       " 'kati': 21,\n",
       " 'perri': 21,\n",
       " 'figur': 21,\n",
       " 'max': 4,\n",
       " 'rubi': 14,\n",
       " 'leonardo': 23,\n",
       " 'dicaprio': 28,\n",
       " 'russia': 2,\n",
       " 'differ': 91,\n",
       " 'everywher': 17,\n",
       " 'els': 17,\n",
       " 'earth': 26,\n",
       " 'nostalg': 10,\n",
       " 'mashup': 22,\n",
       " 'groov': 2,\n",
       " 'lifechang': 28,\n",
       " 'pbj': 2,\n",
       " 'rachel': 13,\n",
       " 'bilson': 1,\n",
       " 'kristen': 10,\n",
       " 'momfriend': 1,\n",
       " 'goal': 42,\n",
       " 'coolest': 14,\n",
       " 'bisexu': 9,\n",
       " 'expert': 7,\n",
       " 'mind': 57,\n",
       " 'ad': 35,\n",
       " 'advertis': 4,\n",
       " 'complet': 81,\n",
       " 'poodl': 2,\n",
       " 'kathi': 4,\n",
       " 'griffin': 5,\n",
       " 'kristin': 4,\n",
       " 'chenoweth': 3,\n",
       " 'heckler': 1,\n",
       " 'stori': 132,\n",
       " 'pope': 11,\n",
       " 'track': 11,\n",
       " 'anthem': 16,\n",
       " 'alt': 1,\n",
       " 'healthi': 45,\n",
       " 'onthego': 2,\n",
       " 'idea': 69,\n",
       " 'pride': 7,\n",
       " 'prejudic': 3,\n",
       " 'heart': 53,\n",
       " 'melt': 15,\n",
       " 'guid': 17,\n",
       " 'cover': 80,\n",
       " 'splurg': 2,\n",
       " 'ghost': 19,\n",
       " 'requir': 5,\n",
       " 'horror': 74,\n",
       " 'squidward': 3,\n",
       " 'tentacl': 1,\n",
       " 'gorgeou': 47,\n",
       " 'londoninspir': 1,\n",
       " 'tattoo': 80,\n",
       " 'absolut': 85,\n",
       " 'dancer': 6,\n",
       " 'reassign': 1,\n",
       " 'surgeri': 5,\n",
       " 'boyfriend': 49,\n",
       " 'pakistan': 5,\n",
       " 'bob': 20,\n",
       " 'edit': 23,\n",
       " 'koala': 2,\n",
       " 'cam': 4,\n",
       " 'newton': 1,\n",
       " 'even': 47,\n",
       " 'mcdonald': 18,\n",
       " 'revolutionis': 1,\n",
       " 'fight': 16,\n",
       " 'lgbt': 12,\n",
       " 'transform': 34,\n",
       " 'hip': 2,\n",
       " 'penis': 3,\n",
       " 'taylor': 122,\n",
       " 'swift': 120,\n",
       " 'load': 2,\n",
       " 'callback': 1,\n",
       " 'style': 56,\n",
       " 'relationship': 102,\n",
       " 'statu': 12,\n",
       " 'follow': 27,\n",
       " 'wine': 19,\n",
       " 'hotel': 22,\n",
       " 'safe': 4,\n",
       " 'secur': 3,\n",
       " 'think': 99,\n",
       " 'pizza': 57,\n",
       " 'gilmor': 45,\n",
       " 'jennif': 45,\n",
       " 'lawrenc': 37,\n",
       " 'win': 38,\n",
       " 'two': 61,\n",
       " 'rat': 8,\n",
       " 'fought': 3,\n",
       " 'slice': 4,\n",
       " 'citi': 43,\n",
       " 'deep': 14,\n",
       " 'dive': 1,\n",
       " 'disgustingli': 3,\n",
       " 'oscarssowhit': 2,\n",
       " 'took': 44,\n",
       " 'passiveaggress': 1,\n",
       " 'anxieti': 42,\n",
       " 'snoop': 2,\n",
       " 'dogg': 2,\n",
       " 'hair': 151,\n",
       " 'mythbust': 1,\n",
       " 'bit': 8,\n",
       " 'pound': 5,\n",
       " 'chicken': 31,\n",
       " 'imag': 34,\n",
       " 'hiv': 3,\n",
       " 'affect': 4,\n",
       " 'fuller': 5,\n",
       " ...}"
      ]
     },
     "execution_count": 32,
     "metadata": {},
     "output_type": "execute_result"
    }
   ],
   "source": [
    "bait_freq"
   ]
  },
  {
   "cell_type": "code",
   "execution_count": 33,
   "id": "e9ed6c7b",
   "metadata": {},
   "outputs": [],
   "source": [
    "baits = random.sample(list(bait_freq), 10)\n",
    "normal = random.sample(list(normal_freq), 10)"
   ]
  },
  {
   "cell_type": "code",
   "execution_count": 34,
   "id": "3313c45f",
   "metadata": {
    "scrolled": false
   },
   "outputs": [
    {
     "data": {
      "image/png": "[encoded data removed]",
      "text/plain": [
       "<Figure size 360x432 with 1 Axes>"
      ]
     },
     "metadata": {
      "needs_background": "light"
     },
     "output_type": "display_data"
    }
   ],
   "source": [
    "fig, ax = plt.subplots(figsize = (5 ,6))\n",
    "\n",
    "# convert positive raw counts to logarithmic scale. we add 1 to avoid log(0)\n",
    "x = np.log([bait_freq[k] for k in baits])  \n",
    "\n",
    "# do the same for the negative counts\n",
    "y = np.log([normal_freq[x]+ 1 for x in normal]) \n",
    "\n",
    "data = list(zip(baits, normal))\n",
    "# Plot a dot for each pair of words\n",
    "ax.scatter(x, y, color =\"m\")  \n",
    "\n",
    "# assign axis labels\n",
    "plt.xlabel(\"ClickBait words\")\n",
    "plt.ylabel(\"Normal Words\")\n",
    "\n",
    "# Add the word as the label at the same position as you added the points just before\n",
    "for i in range(len(data)):\n",
    "    ax.annotate(data[i][0], (x[i], y[i]), fontsize=12, )\n",
    "\n",
    "ax.plot([0, 9], [0, 9], color = 'g') # Plot the line that divides the 2 areas.\n",
    "plt.show()"
   ]
  },
  {
   "cell_type": "markdown",
   "id": "788adc64",
   "metadata": {},
   "source": [
    "# 3. Features' extraction:"
   ]
  },
  {
   "cell_type": "code",
   "execution_count": 35,
   "id": "c9e2702d",
   "metadata": {},
   "outputs": [],
   "source": [
    "df['bias'] = 1\n",
    "df['bait'] = 0\n",
    "df['normal'] = 0"
   ]
  },
  {
   "cell_type": "code",
   "execution_count": 36,
   "id": "1d307bd4",
   "metadata": {},
   "outputs": [],
   "source": [
    "def count_bait(headline):\n",
    "    count = 0\n",
    "    for word in headline:\n",
    "        if word in bait_freq:\n",
    "            count += bait_freq[word]\n",
    "    return count\n",
    "def count_normal(headline):\n",
    "    count = 0\n",
    "    for word in headline:\n",
    "        if word in normal_freq:\n",
    "            count += normal_freq[word]\n",
    "    return count"
   ]
  },
  {
   "cell_type": "code",
   "execution_count": 37,
   "id": "26c736cd",
   "metadata": {},
   "outputs": [],
   "source": [
    "df['bait'] = df['Title'].apply(count_bait)\n",
    "df['normal'] =df['Title'].apply(count_normal)"
   ]
  },
  {
   "cell_type": "code",
   "execution_count": 38,
   "id": "0d3ee5fd",
   "metadata": {},
   "outputs": [
    {
     "data": {
      "text/html": [
       "<div>\n",
       "<style scoped>\n",
       "    .dataframe tbody tr th:only-of-type {\n",
       "        vertical-align: middle;\n",
       "    }\n",
       "\n",
       "    .dataframe tbody tr th {\n",
       "        vertical-align: top;\n",
       "    }\n",
       "\n",
       "    .dataframe thead th {\n",
       "        text-align: right;\n",
       "    }\n",
       "</style>\n",
       "<table border=\"1\" class=\"dataframe\">\n",
       "  <thead>\n",
       "    <tr style=\"text-align: right;\">\n",
       "      <th></th>\n",
       "      <th>Title</th>\n",
       "      <th>Class</th>\n",
       "      <th>bias</th>\n",
       "      <th>bait</th>\n",
       "      <th>normal</th>\n",
       "    </tr>\n",
       "  </thead>\n",
       "  <tbody>\n",
       "    <tr>\n",
       "      <th>0</th>\n",
       "      <td>[get, bing]</td>\n",
       "      <td>1</td>\n",
       "      <td>1</td>\n",
       "      <td>394</td>\n",
       "      <td>112</td>\n",
       "    </tr>\n",
       "    <tr>\n",
       "      <th>1</th>\n",
       "      <td>[tv, femal, friend, group, belong]</td>\n",
       "      <td>1</td>\n",
       "      <td>1</td>\n",
       "      <td>486</td>\n",
       "      <td>231</td>\n",
       "    </tr>\n",
       "    <tr>\n",
       "      <th>2</th>\n",
       "      <td>[new, star, war, forc, awaken, trailer, give, ...</td>\n",
       "      <td>1</td>\n",
       "      <td>1</td>\n",
       "      <td>1171</td>\n",
       "      <td>1226</td>\n",
       "    </tr>\n",
       "    <tr>\n",
       "      <th>3</th>\n",
       "      <td>[vine, new, york, celebr, big, brother, fuck, ...</td>\n",
       "      <td>1</td>\n",
       "      <td>1</td>\n",
       "      <td>1151</td>\n",
       "      <td>1084</td>\n",
       "    </tr>\n",
       "    <tr>\n",
       "      <th>4</th>\n",
       "      <td>[coupl, stun, photo, shoot, babi, learn, inope...</td>\n",
       "      <td>1</td>\n",
       "      <td>1</td>\n",
       "      <td>728</td>\n",
       "      <td>186</td>\n",
       "    </tr>\n",
       "    <tr>\n",
       "      <th>...</th>\n",
       "      <td>...</td>\n",
       "      <td>...</td>\n",
       "      <td>...</td>\n",
       "      <td>...</td>\n",
       "      <td>...</td>\n",
       "    </tr>\n",
       "    <tr>\n",
       "      <th>15996</th>\n",
       "      <td>[make, femal, heart, flutter, iraq, throw, shoe]</td>\n",
       "      <td>0</td>\n",
       "      <td>1</td>\n",
       "      <td>971</td>\n",
       "      <td>438</td>\n",
       "    </tr>\n",
       "    <tr>\n",
       "      <th>15997</th>\n",
       "      <td>[british, liber, democrat, patsi, calton, die,...</td>\n",
       "      <td>0</td>\n",
       "      <td>1</td>\n",
       "      <td>154</td>\n",
       "      <td>771</td>\n",
       "    </tr>\n",
       "    <tr>\n",
       "      <th>15998</th>\n",
       "      <td>[drone, smartphon, app, help, heart, attack, v...</td>\n",
       "      <td>0</td>\n",
       "      <td>1</td>\n",
       "      <td>267</td>\n",
       "      <td>608</td>\n",
       "    </tr>\n",
       "    <tr>\n",
       "      <th>15999</th>\n",
       "      <td>[netanyahu, urg, pope, benedict, israel, denou...</td>\n",
       "      <td>0</td>\n",
       "      <td>1</td>\n",
       "      <td>20</td>\n",
       "      <td>338</td>\n",
       "    </tr>\n",
       "    <tr>\n",
       "      <th>16000</th>\n",
       "      <td>[comput, maker, prepar, stake, bigger, claim, ...</td>\n",
       "      <td>0</td>\n",
       "      <td>1</td>\n",
       "      <td>74</td>\n",
       "      <td>362</td>\n",
       "    </tr>\n",
       "  </tbody>\n",
       "</table>\n",
       "<p>32000 rows × 5 columns</p>\n",
       "</div>"
      ],
      "text/plain": [
       "                                                   Title  Class  bias  bait  \\\n",
       "0                                            [get, bing]      1     1   394   \n",
       "1                     [tv, femal, friend, group, belong]      1     1   486   \n",
       "2      [new, star, war, forc, awaken, trailer, give, ...      1     1  1171   \n",
       "3      [vine, new, york, celebr, big, brother, fuck, ...      1     1  1151   \n",
       "4      [coupl, stun, photo, shoot, babi, learn, inope...      1     1   728   \n",
       "...                                                  ...    ...   ...   ...   \n",
       "15996   [make, femal, heart, flutter, iraq, throw, shoe]      0     1   971   \n",
       "15997  [british, liber, democrat, patsi, calton, die,...      0     1   154   \n",
       "15998  [drone, smartphon, app, help, heart, attack, v...      0     1   267   \n",
       "15999  [netanyahu, urg, pope, benedict, israel, denou...      0     1    20   \n",
       "16000  [comput, maker, prepar, stake, bigger, claim, ...      0     1    74   \n",
       "\n",
       "       normal  \n",
       "0         112  \n",
       "1         231  \n",
       "2        1226  \n",
       "3        1084  \n",
       "4         186  \n",
       "...       ...  \n",
       "15996     438  \n",
       "15997     771  \n",
       "15998     608  \n",
       "15999     338  \n",
       "16000     362  \n",
       "\n",
       "[32000 rows x 5 columns]"
      ]
     },
     "execution_count": 38,
     "metadata": {},
     "output_type": "execute_result"
    }
   ],
   "source": [
    "df"
   ]
  },
  {
   "cell_type": "code",
   "execution_count": 39,
   "id": "df384c50",
   "metadata": {},
   "outputs": [],
   "source": [
    "df = shuffle(df)"
   ]
  },
  {
   "cell_type": "code",
   "execution_count": 40,
   "id": "7bd44c42",
   "metadata": {
    "scrolled": false
   },
   "outputs": [
    {
     "data": {
      "text/html": [
       "<div>\n",
       "<style scoped>\n",
       "    .dataframe tbody tr th:only-of-type {\n",
       "        vertical-align: middle;\n",
       "    }\n",
       "\n",
       "    .dataframe tbody tr th {\n",
       "        vertical-align: top;\n",
       "    }\n",
       "\n",
       "    .dataframe thead th {\n",
       "        text-align: right;\n",
       "    }\n",
       "</style>\n",
       "<table border=\"1\" class=\"dataframe\">\n",
       "  <thead>\n",
       "    <tr style=\"text-align: right;\">\n",
       "      <th></th>\n",
       "      <th>Title</th>\n",
       "      <th>Class</th>\n",
       "      <th>bias</th>\n",
       "      <th>bait</th>\n",
       "      <th>normal</th>\n",
       "    </tr>\n",
       "  </thead>\n",
       "  <tbody>\n",
       "    <tr>\n",
       "      <th>11511</th>\n",
       "      <td>[unbeliv, rude, text, hangov]</td>\n",
       "      <td>1</td>\n",
       "      <td>1</td>\n",
       "      <td>112</td>\n",
       "      <td>10</td>\n",
       "    </tr>\n",
       "    <tr>\n",
       "      <th>8495</th>\n",
       "      <td>[best, video, game, time]</td>\n",
       "      <td>1</td>\n",
       "      <td>1</td>\n",
       "      <td>1740</td>\n",
       "      <td>352</td>\n",
       "    </tr>\n",
       "    <tr>\n",
       "      <th>9580</th>\n",
       "      <td>[harri, potter, parent, base, zodiac]</td>\n",
       "      <td>1</td>\n",
       "      <td>1</td>\n",
       "      <td>1371</td>\n",
       "      <td>76</td>\n",
       "    </tr>\n",
       "    <tr>\n",
       "      <th>783</th>\n",
       "      <td>[chan, tatum, emo, guy, golden, globe, award]</td>\n",
       "      <td>1</td>\n",
       "      <td>1</td>\n",
       "      <td>390</td>\n",
       "      <td>59</td>\n",
       "    </tr>\n",
       "    <tr>\n",
       "      <th>2109</th>\n",
       "      <td>[lawmak, seek, return, right, sue, devic, maker]</td>\n",
       "      <td>0</td>\n",
       "      <td>1</td>\n",
       "      <td>167</td>\n",
       "      <td>446</td>\n",
       "    </tr>\n",
       "  </tbody>\n",
       "</table>\n",
       "</div>"
      ],
      "text/plain": [
       "                                                  Title  Class  bias  bait  \\\n",
       "11511                     [unbeliv, rude, text, hangov]      1     1   112   \n",
       "8495                          [best, video, game, time]      1     1  1740   \n",
       "9580              [harri, potter, parent, base, zodiac]      1     1  1371   \n",
       "783       [chan, tatum, emo, guy, golden, globe, award]      1     1   390   \n",
       "2109   [lawmak, seek, return, right, sue, devic, maker]      0     1   167   \n",
       "\n",
       "       normal  \n",
       "11511      10  \n",
       "8495      352  \n",
       "9580       76  \n",
       "783        59  \n",
       "2109      446  "
      ]
     },
     "execution_count": 40,
     "metadata": {},
     "output_type": "execute_result"
    }
   ],
   "source": [
    "df.head()\n"
   ]
  },
  {
   "cell_type": "code",
   "execution_count": 41,
   "id": "48b5f57a",
   "metadata": {},
   "outputs": [],
   "source": [
    "train_df = df[['Class','bias', 'bait', 'normal']]\n",
    "X = train_df.drop(['Class'], axis=1)\n",
    "y = train_df['Class']"
   ]
  },
  {
   "cell_type": "code",
   "execution_count": 42,
   "id": "ac9fda4c",
   "metadata": {},
   "outputs": [
    {
     "name": "stdout",
     "output_type": "stream",
     "text": [
      "(25600, 3) (25600,)\n",
      "(6400, 3) (6400,)\n"
     ]
    }
   ],
   "source": [
    "seed=1234\n",
    "X_train,X_test,y_train,y_test=train_test_split(X, y, test_size=0.2, random_state=seed)\n",
    "print(X_train.shape, y_train.shape)\n",
    "print(X_test.shape, y_test.shape)"
   ]
  },
  {
   "cell_type": "markdown",
   "id": "70de0a99",
   "metadata": {},
   "source": [
    "# 4. Training  different models:"
   ]
  },
  {
   "cell_type": "markdown",
   "id": "595ad43e",
   "metadata": {},
   "source": [
    "# Knn:"
   ]
  },
  {
   "cell_type": "code",
   "execution_count": 43,
   "id": "1f2d69ee",
   "metadata": {},
   "outputs": [],
   "source": [
    "knn = KNeighborsClassifier(n_neighbors=10)\n",
    "knn.fit(X_train, y_train)\n",
    "ytrain_pred = knn.predict(X_train) # predict on train set\n",
    "y_pred_test = knn.predict(X_test) # predict on test set"
   ]
  },
  {
   "cell_type": "code",
   "execution_count": 45,
   "id": "72dff802",
   "metadata": {
    "scrolled": true
   },
   "outputs": [
    {
     "name": "stdout",
     "output_type": "stream",
     "text": [
      "Train set: 0.920859375\n",
      "Test set: 0.911875\n"
     ]
    }
   ],
   "source": [
    "acc_train = accuracy_score(y_train,ytrain_pred)\n",
    "acc_test =accuracy_score(y_test, y_pred_test)\n",
    "print(f\"Train set: {acc_train}\")\n",
    "print(f\"Test set: {acc_test}\")"
   ]
  },
  {
   "cell_type": "markdown",
   "id": "10a70d75",
   "metadata": {},
   "source": [
    "### Confusion Matrix:"
   ]
  },
  {
   "cell_type": "code",
   "execution_count": 46,
   "id": "9ab3c7bf",
   "metadata": {
    "scrolled": true
   },
   "outputs": [
    {
     "data": {
      "image/png": "[encoded data removed]",
      "text/plain": [
       "<Figure size 432x288 with 2 Axes>"
      ]
     },
     "metadata": {
      "needs_background": "light"
     },
     "output_type": "display_data"
    }
   ],
   "source": [
    "cm = confusion_matrix(y_test, y_pred_test)\n",
    "\n",
    "\n",
    "cm_matrix = pd.DataFrame(data=cm, columns=['True Positive', 'True Negative'], \n",
    "                        index=['False Positive', 'False Negative'])\n",
    "sns.heatmap(cm_matrix, annot=True, fmt='d', cmap='YlGnBu')\n",
    "plt.show()"
   ]
  },
  {
   "cell_type": "markdown",
   "id": "6dc7752c",
   "metadata": {},
   "source": [
    "### Classification Report:"
   ]
  },
  {
   "cell_type": "code",
   "execution_count": 47,
   "id": "a13643aa",
   "metadata": {},
   "outputs": [
    {
     "name": "stdout",
     "output_type": "stream",
     "text": [
      "               precision    recall  f1-score   support\n",
      "\n",
      "Non-clickbait       0.90      0.92      0.91      3177\n",
      "    Clickbait       0.92      0.90      0.91      3223\n",
      "\n",
      "     accuracy                           0.91      6400\n",
      "    macro avg       0.91      0.91      0.91      6400\n",
      " weighted avg       0.91      0.91      0.91      6400\n",
      "\n"
     ]
    }
   ],
   "source": [
    "print(classification_report(y_test, y_pred_test, \n",
    "                            target_names=['Non-clickbait', 'Clickbait']))"
   ]
  },
  {
   "cell_type": "markdown",
   "id": "99535e15",
   "metadata": {},
   "source": [
    "### AUC:"
   ]
  },
  {
   "cell_type": "code",
   "execution_count": 48,
   "id": "b1897b7d",
   "metadata": {},
   "outputs": [
    {
     "data": {
      "image/png": "[encoded data removed]",
      "text/plain": [
       "<Figure size 432x288 with 1 Axes>"
      ]
     },
     "metadata": {
      "needs_background": "light"
     },
     "output_type": "display_data"
    }
   ],
   "source": [
    "probs = knn.predict_proba(X_test)\n",
    "preds = probs[:,1]\n",
    "fpr, tpr, threshold = metrics.roc_curve(y_test, preds)\n",
    "roc_auc = metrics.auc(fpr, tpr)\n",
    "\n",
    "plt.title('Receiver Operating Characteristic')\n",
    "plt.plot(fpr, tpr, 'b', label = 'AUC = %0.2f' % roc_auc)\n",
    "plt.legend(loc = 'lower right')\n",
    "plt.plot([0, 1], [0, 1],'r--')\n",
    "plt.xlim([0, 1])\n",
    "plt.ylim([0, 1])\n",
    "plt.ylabel('True Positive Rate')\n",
    "plt.xlabel('False Positive Rate')\n",
    "plt.show()"
   ]
  },
  {
   "cell_type": "markdown",
   "id": "2288b88e",
   "metadata": {},
   "source": [
    "### Using cross validation:"
   ]
  },
  {
   "cell_type": "code",
   "execution_count": 49,
   "id": "e8b65a08",
   "metadata": {},
   "outputs": [
    {
     "name": "stdout",
     "output_type": "stream",
     "text": [
      "Cross-validated scores for each fold : [0.90984375 0.91171875 0.91578125 0.90984375 0.91359375]\n",
      "The mean accuracy of all 5 folds 0.91215625\n"
     ]
    }
   ],
   "source": [
    "# cross validation\n",
    "scores = cross_val_score(knn, train_df, y, cv=5)\n",
    "print (\"Cross-validated scores for each fold :\", scores)\n",
    "print (\"The mean accuracy of all 5 folds\", scores.mean())"
   ]
  },
  {
   "cell_type": "markdown",
   "id": "3b8ef53c",
   "metadata": {},
   "source": [
    "## Gaussian Naive Bayes:"
   ]
  },
  {
   "cell_type": "code",
   "execution_count": 50,
   "id": "9cb0351e",
   "metadata": {
    "scrolled": true
   },
   "outputs": [
    {
     "name": "stdout",
     "output_type": "stream",
     "text": [
      "CPU times: total: 0 ns\n",
      "Wall time: 5.02 ms\n",
      "\n",
      "Training Accuracy score: 0.8365625\n",
      "Testing Accuracy score: 0.8328125\n"
     ]
    }
   ],
   "source": [
    "gnb = GaussianNB() \n",
    "%time gnb.fit(X_train, y_train)\n",
    "\n",
    "y_pred_train = gnb.predict(X_train)\n",
    "y_pred_test = gnb.predict(X_test)\n",
    "gnb_score =accuracy_score(y_test, y_pred_test)\n",
    "print(\"\\nTraining Accuracy score:\",accuracy_score(y_train, y_pred_train))\n",
    "print(\"Testing Accuracy score:\",gnb_score)"
   ]
  },
  {
   "cell_type": "markdown",
   "id": "ff9ab146",
   "metadata": {},
   "source": [
    "### Confusion Matrix:"
   ]
  },
  {
   "cell_type": "code",
   "execution_count": 51,
   "id": "62f2ee57",
   "metadata": {},
   "outputs": [
    {
     "data": {
      "image/png": "[encoded data removed]",
      "text/plain": [
       "<Figure size 432x288 with 2 Axes>"
      ]
     },
     "metadata": {
      "needs_background": "light"
     },
     "output_type": "display_data"
    }
   ],
   "source": [
    "cm = confusion_matrix(y_test, y_pred_test)\n",
    "\n",
    "\n",
    "cm_matrix = pd.DataFrame(data=cm, columns=['True Positive', 'True Negative'], \n",
    "                        index=['False Positive', 'False Negative'])\n",
    "sns.heatmap(cm_matrix, annot=True, fmt='d', cmap='YlGnBu')\n",
    "plt.show()"
   ]
  },
  {
   "cell_type": "markdown",
   "id": "23d72bc3",
   "metadata": {},
   "source": [
    "### Classification Report:"
   ]
  },
  {
   "cell_type": "code",
   "execution_count": 52,
   "id": "87da6858",
   "metadata": {
    "scrolled": true
   },
   "outputs": [
    {
     "name": "stdout",
     "output_type": "stream",
     "text": [
      "               precision    recall  f1-score   support\n",
      "\n",
      "Non-clickbait       0.77      0.95      0.85      3177\n",
      "    Clickbait       0.93      0.72      0.81      3223\n",
      "\n",
      "     accuracy                           0.83      6400\n",
      "    macro avg       0.85      0.83      0.83      6400\n",
      " weighted avg       0.85      0.83      0.83      6400\n",
      "\n"
     ]
    }
   ],
   "source": [
    "print(classification_report(y_test, y_pred_test, \n",
    "                            target_names=['Non-clickbait', 'Clickbait']))"
   ]
  },
  {
   "cell_type": "markdown",
   "id": "5b80a7cf",
   "metadata": {},
   "source": [
    "### AUC:"
   ]
  },
  {
   "cell_type": "code",
   "execution_count": 53,
   "id": "36872b7c",
   "metadata": {},
   "outputs": [
    {
     "data": {
      "image/png": "[encoded data removed]",
      "text/plain": [
       "<Figure size 432x288 with 1 Axes>"
      ]
     },
     "metadata": {
      "needs_background": "light"
     },
     "output_type": "display_data"
    }
   ],
   "source": [
    "probs = gnb.predict_proba(X_test)\n",
    "preds = probs[:,1]\n",
    "fpr, tpr, threshold = metrics.roc_curve(y_test, preds)\n",
    "roc_auc = metrics.auc(fpr, tpr)\n",
    "\n",
    "plt.title('Receiver Operating Characteristic')\n",
    "plt.plot(fpr, tpr, 'b', label = 'AUC = %0.2f' % roc_auc)\n",
    "plt.legend(loc = 'lower right')\n",
    "plt.plot([0, 1], [0, 1],'r--')\n",
    "plt.xlim([0, 1])\n",
    "plt.ylim([0, 1])\n",
    "plt.ylabel('True Positive Rate')\n",
    "plt.xlabel('False Positive Rate')\n",
    "plt.show()"
   ]
  },
  {
   "cell_type": "markdown",
   "id": "11012522",
   "metadata": {},
   "source": [
    "### Using cross validation:"
   ]
  },
  {
   "cell_type": "code",
   "execution_count": 54,
   "id": "26f1fbe1",
   "metadata": {
    "scrolled": true
   },
   "outputs": [
    {
     "name": "stdout",
     "output_type": "stream",
     "text": [
      "Cross-validated scores for each fold : [1. 1. 1. 1. 1.]\n",
      "The mean accuracy of all 5 folds 1.0\n"
     ]
    }
   ],
   "source": [
    "# cross validation\n",
    "scores = cross_val_score(gnb, train_df, y, cv=5)\n",
    "print (\"Cross-validated scores for each fold :\", scores)\n",
    "print (\"The mean accuracy of all 5 folds\", scores.mean())"
   ]
  },
  {
   "cell_type": "markdown",
   "id": "88daebb3",
   "metadata": {},
   "source": [
    "## Multinomial Naive Bayes:"
   ]
  },
  {
   "cell_type": "code",
   "execution_count": 55,
   "id": "47c6f1d7",
   "metadata": {
    "scrolled": true
   },
   "outputs": [
    {
     "name": "stdout",
     "output_type": "stream",
     "text": [
      "CPU times: total: 0 ns\n",
      "Wall time: 5 ms\n",
      "\n",
      "Training Accuracy score: 0.910546875\n",
      "Testing Accuracy score: 0.911875\n"
     ]
    }
   ],
   "source": [
    "mnb = MultinomialNB() \n",
    "%time mnb.fit(X_train, y_train)\n",
    "\n",
    "y_pred_train = mnb.predict(X_train)\n",
    "y_pred_test = mnb.predict(X_test)\n",
    "mnb_score = accuracy_score(y_test, y_pred_test)\n",
    "print(\"\\nTraining Accuracy score:\",accuracy_score(y_train, y_pred_train))\n",
    "print(\"Testing Accuracy score:\",mnb_score)"
   ]
  },
  {
   "cell_type": "markdown",
   "id": "8d0b8144",
   "metadata": {},
   "source": [
    "### Confusion Matrix:"
   ]
  },
  {
   "cell_type": "code",
   "execution_count": 56,
   "id": "efbe1dbd",
   "metadata": {},
   "outputs": [
    {
     "data": {
      "image/png": "[encoded data removed]",
      "text/plain": [
       "<Figure size 432x288 with 2 Axes>"
      ]
     },
     "metadata": {
      "needs_background": "light"
     },
     "output_type": "display_data"
    }
   ],
   "source": [
    "cm = confusion_matrix(y_test, y_pred_test)\n",
    "\n",
    "\n",
    "cm_matrix = pd.DataFrame(data=cm, columns=['True Positive', 'True Negative'], \n",
    "                        index=['False Positive', 'False Negative'])\n",
    "sns.heatmap(cm_matrix, annot=True, fmt='d', cmap='YlGnBu')\n",
    "plt.show()"
   ]
  },
  {
   "cell_type": "markdown",
   "id": "d98ee17b",
   "metadata": {},
   "source": [
    "### Classification Report:"
   ]
  },
  {
   "cell_type": "code",
   "execution_count": 57,
   "id": "b27996d8",
   "metadata": {},
   "outputs": [
    {
     "name": "stdout",
     "output_type": "stream",
     "text": [
      "               precision    recall  f1-score   support\n",
      "\n",
      "Non-clickbait       0.91      0.92      0.91      3177\n",
      "    Clickbait       0.92      0.91      0.91      3223\n",
      "\n",
      "     accuracy                           0.91      6400\n",
      "    macro avg       0.91      0.91      0.91      6400\n",
      " weighted avg       0.91      0.91      0.91      6400\n",
      "\n"
     ]
    }
   ],
   "source": [
    "print(classification_report(y_test, y_pred_test, \n",
    "                            target_names=['Non-clickbait', 'Clickbait']))"
   ]
  },
  {
   "cell_type": "markdown",
   "id": "a591f077",
   "metadata": {},
   "source": [
    "### AUC:"
   ]
  },
  {
   "cell_type": "code",
   "execution_count": 58,
   "id": "71c91490",
   "metadata": {},
   "outputs": [
    {
     "data": {
      "image/png": "[encoded data removed]",
      "text/plain": [
       "<Figure size 432x288 with 1 Axes>"
      ]
     },
     "metadata": {
      "needs_background": "light"
     },
     "output_type": "display_data"
    }
   ],
   "source": [
    "probs = mnb.predict_proba(X_test)\n",
    "preds = probs[:,1]\n",
    "fpr, tpr, threshold = metrics.roc_curve(y_test, preds)\n",
    "roc_auc = metrics.auc(fpr, tpr)\n",
    "\n",
    "plt.title('Receiver Operating Characteristic')\n",
    "plt.plot(fpr, tpr, 'b', label = 'AUC = %0.2f' % roc_auc)\n",
    "plt.legend(loc = 'lower right')\n",
    "plt.plot([0, 1], [0, 1],'r--')\n",
    "plt.xlim([0, 1])\n",
    "plt.ylim([0, 1])\n",
    "plt.ylabel('True Positive Rate')\n",
    "plt.xlabel('False Positive Rate')\n",
    "plt.show()"
   ]
  },
  {
   "cell_type": "markdown",
   "id": "6c52c57e",
   "metadata": {},
   "source": [
    "### Using cross validation:"
   ]
  },
  {
   "cell_type": "code",
   "execution_count": 59,
   "id": "a03d65e5",
   "metadata": {},
   "outputs": [
    {
     "name": "stdout",
     "output_type": "stream",
     "text": [
      "Cross-validated scores for each fold : [0.9121875  0.913125   0.9134375  0.9140625  0.91328125]\n",
      "The mean accuracy of all 5 folds 0.9132187500000001\n"
     ]
    }
   ],
   "source": [
    "# cross validation\n",
    "scores = cross_val_score(mnb, train_df, y, cv=5)\n",
    "print (\"Cross-validated scores for each fold :\", scores)\n",
    "print (\"The mean accuracy of all 5 folds\", scores.mean())"
   ]
  },
  {
   "cell_type": "markdown",
   "id": "b024f4bf",
   "metadata": {},
   "source": [
    "## Decision Tree Classifier :"
   ]
  },
  {
   "cell_type": "code",
   "execution_count": 60,
   "id": "638615b4",
   "metadata": {
    "scrolled": false
   },
   "outputs": [
    {
     "name": "stdout",
     "output_type": "stream",
     "text": [
      "CPU times: total: 31.2 ms\n",
      "Wall time: 40 ms\n",
      "\n",
      "Training Accuracy score: 0.9982421875\n",
      "Testing Accuracy score: 0.8746875\n"
     ]
    }
   ],
   "source": [
    "dt = DecisionTreeClassifier(random_state=seed)\n",
    "%time dt.fit(X_train, y_train)\n",
    "\n",
    "y_pred_train = dt.predict(X_train)\n",
    "y_pred_test = dt.predict(X_test)\n",
    "dt_score = accuracy_score(y_test, y_pred_test)\n",
    "print(\"\\nTraining Accuracy score:\",accuracy_score(y_train, y_pred_train))\n",
    "print(\"Testing Accuracy score:\", dt_score)"
   ]
  },
  {
   "cell_type": "markdown",
   "id": "f6ad0895",
   "metadata": {},
   "source": [
    "### Confusion Matrix:"
   ]
  },
  {
   "cell_type": "code",
   "execution_count": 61,
   "id": "62c2354e",
   "metadata": {},
   "outputs": [
    {
     "data": {
      "image/png": "[encoded data removed]",
      "text/plain": [
       "<Figure size 432x288 with 2 Axes>"
      ]
     },
     "metadata": {
      "needs_background": "light"
     },
     "output_type": "display_data"
    }
   ],
   "source": [
    "cm = confusion_matrix(y_test, y_pred_test)\n",
    "\n",
    "\n",
    "cm_matrix = pd.DataFrame(data=cm, columns=['True Positive', 'True Negative'], \n",
    "                        index=['False Positive', 'False Negative'])\n",
    "sns.heatmap(cm_matrix, annot=True, fmt='d', cmap='YlGnBu')\n",
    "plt.show()"
   ]
  },
  {
   "cell_type": "markdown",
   "id": "170a3d23",
   "metadata": {},
   "source": [
    "### Classification Report:"
   ]
  },
  {
   "cell_type": "code",
   "execution_count": 62,
   "id": "55d20748",
   "metadata": {},
   "outputs": [
    {
     "name": "stdout",
     "output_type": "stream",
     "text": [
      "               precision    recall  f1-score   support\n",
      "\n",
      "Non-clickbait       0.87      0.88      0.87      3177\n",
      "    Clickbait       0.88      0.87      0.88      3223\n",
      "\n",
      "     accuracy                           0.87      6400\n",
      "    macro avg       0.87      0.87      0.87      6400\n",
      " weighted avg       0.87      0.87      0.87      6400\n",
      "\n"
     ]
    }
   ],
   "source": [
    "print(classification_report(y_test, y_pred_test, \n",
    "                            target_names=['Non-clickbait', 'Clickbait']))"
   ]
  },
  {
   "cell_type": "markdown",
   "id": "0630aeaa",
   "metadata": {},
   "source": [
    "### AUC:"
   ]
  },
  {
   "cell_type": "code",
   "execution_count": 63,
   "id": "1ac376aa",
   "metadata": {},
   "outputs": [
    {
     "data": {
      "image/png": "[encoded data removed]",
      "text/plain": [
       "<Figure size 432x288 with 1 Axes>"
      ]
     },
     "metadata": {
      "needs_background": "light"
     },
     "output_type": "display_data"
    }
   ],
   "source": [
    "probs = dt.predict_proba(X_test)\n",
    "preds = probs[:,1]\n",
    "fpr, tpr, threshold = metrics.roc_curve(y_test, preds)\n",
    "roc_auc = metrics.auc(fpr, tpr)\n",
    "\n",
    "plt.title('Receiver Operating Characteristic')\n",
    "plt.plot(fpr, tpr, 'b', label = 'AUC = %0.2f' % roc_auc)\n",
    "plt.legend(loc = 'lower right')\n",
    "plt.plot([0, 1], [0, 1],'r--')\n",
    "plt.xlim([0, 1])\n",
    "plt.ylim([0, 1])\n",
    "plt.ylabel('True Positive Rate')\n",
    "plt.xlabel('False Positive Rate')\n",
    "plt.show()"
   ]
  },
  {
   "cell_type": "markdown",
   "id": "db436f45",
   "metadata": {},
   "source": [
    "### Using cross validation:"
   ]
  },
  {
   "cell_type": "code",
   "execution_count": 64,
   "id": "74db59c4",
   "metadata": {},
   "outputs": [
    {
     "name": "stdout",
     "output_type": "stream",
     "text": [
      "Cross-validated scores for each fold : [1. 1. 1. 1. 1.]\n",
      "The mean accuracy of all 5 folds 1.0\n"
     ]
    }
   ],
   "source": [
    "# cross validation\n",
    "scores = cross_val_score(dt, train_df, y, cv=5)\n",
    "print (\"Cross-validated scores for each fold :\", scores)\n",
    "print (\"The mean accuracy of all 5 folds\", scores.mean())"
   ]
  },
  {
   "cell_type": "markdown",
   "id": "3f18f465",
   "metadata": {},
   "source": [
    "## Support Vector Machines:"
   ]
  },
  {
   "cell_type": "code",
   "execution_count": 65,
   "id": "317e3bb7",
   "metadata": {
    "scrolled": true
   },
   "outputs": [
    {
     "name": "stdout",
     "output_type": "stream",
     "text": [
      "CPU times: total: 500 ms\n",
      "Wall time: 530 ms\n",
      "\n",
      "Training Accuracy score: 0.9074609375\n",
      "Testing Accuracy score: 0.91\n"
     ]
    },
    {
     "name": "stderr",
     "output_type": "stream",
     "text": [
      "C:\\Users\\aorus\\AppData\\Local\\Programs\\Python\\Python310\\lib\\site-packages\\sklearn\\svm\\_base.py:1225: ConvergenceWarning: Liblinear failed to converge, increase the number of iterations.\n",
      "  warnings.warn(\n"
     ]
    }
   ],
   "source": [
    "svc =  LinearSVC(class_weight='balanced') \n",
    "%time svc.fit(X_train, y_train)\n",
    "\n",
    "y_pred_train = svc.predict(X_train)\n",
    "y_pred_test = svc.predict(X_test)\n",
    "svc_accuracy =accuracy_score(y_test, y_pred_test)\n",
    "print(\"\\nTraining Accuracy score:\",accuracy_score(y_train, y_pred_train))\n",
    "print(\"Testing Accuracy score:\",svc_accuracy)"
   ]
  },
  {
   "cell_type": "markdown",
   "id": "443a7868",
   "metadata": {},
   "source": [
    "### Confusion Matrix:\n"
   ]
  },
  {
   "cell_type": "code",
   "execution_count": 66,
   "id": "0d0b4898",
   "metadata": {},
   "outputs": [
    {
     "data": {
      "image/png": "[encoded data removed]",
      "text/plain": [
       "<Figure size 432x288 with 2 Axes>"
      ]
     },
     "metadata": {
      "needs_background": "light"
     },
     "output_type": "display_data"
    }
   ],
   "source": [
    "cm = confusion_matrix(y_test, y_pred_test)\n",
    "\n",
    "\n",
    "cm_matrix = pd.DataFrame(data=cm, columns=['True Positive', 'True Negative'], \n",
    "                        index=['False Positive', 'False Negative'])\n",
    "sns.heatmap(cm_matrix, annot=True, fmt='d', cmap='YlGnBu')\n",
    "plt.show()"
   ]
  },
  {
   "cell_type": "markdown",
   "id": "c21e4198",
   "metadata": {},
   "source": [
    "### Classification Report:"
   ]
  },
  {
   "cell_type": "code",
   "execution_count": 67,
   "id": "0f81b60e",
   "metadata": {},
   "outputs": [
    {
     "name": "stdout",
     "output_type": "stream",
     "text": [
      "               precision    recall  f1-score   support\n",
      "\n",
      "Non-clickbait       0.93      0.88      0.91      3177\n",
      "    Clickbait       0.89      0.94      0.91      3223\n",
      "\n",
      "     accuracy                           0.91      6400\n",
      "    macro avg       0.91      0.91      0.91      6400\n",
      " weighted avg       0.91      0.91      0.91      6400\n",
      "\n"
     ]
    }
   ],
   "source": [
    "print(classification_report(y_test, y_pred_test, \n",
    "                            target_names=['Non-clickbait', 'Clickbait']))"
   ]
  },
  {
   "cell_type": "markdown",
   "id": "b5b69ba6",
   "metadata": {},
   "source": [
    "### AUC:"
   ]
  },
  {
   "cell_type": "code",
   "execution_count": 68,
   "id": "f3697ae1",
   "metadata": {},
   "outputs": [
    {
     "data": {
      "image/png": "[encoded data removed]",
      "text/plain": [
       "<Figure size 432x288 with 1 Axes>"
      ]
     },
     "metadata": {
      "needs_background": "light"
     },
     "output_type": "display_data"
    }
   ],
   "source": [
    "train_fpr, train_tpr, tr_thresholds = roc_curve(y_train, y_pred_train)\n",
    "test_fpr, test_tpr, te_thresholds = roc_curve(y_test, y_pred_test)\n",
    "\n",
    "plt.grid()\n",
    "\n",
    "plt.plot(train_fpr, train_tpr, label=\" AUC TRAIN =\"+str(auc(train_fpr, train_tpr)))\n",
    "plt.plot(test_fpr, test_tpr, label=\" AUC TEST =\"+str(auc(test_fpr, test_tpr)))\n",
    "plt.plot([0,1],[0,1],'g--')\n",
    "plt.legend()\n",
    "plt.xlabel(\"False Positive Rate\")\n",
    "plt.ylabel(\"True Positive Rate\")\n",
    "plt.title(\"AUC(ROC curve)\")\n",
    "plt.grid(color='black', linestyle='-', linewidth=0.5)\n",
    "plt.show()"
   ]
  },
  {
   "cell_type": "markdown",
   "id": "352a89dd",
   "metadata": {},
   "source": [
    "### Using cross validation:"
   ]
  },
  {
   "cell_type": "code",
   "execution_count": 69,
   "id": "7d7fdcea",
   "metadata": {},
   "outputs": [
    {
     "name": "stderr",
     "output_type": "stream",
     "text": [
      "C:\\Users\\aorus\\AppData\\Local\\Programs\\Python\\Python310\\lib\\site-packages\\sklearn\\svm\\_base.py:1225: ConvergenceWarning: Liblinear failed to converge, increase the number of iterations.\n",
      "  warnings.warn(\n",
      "C:\\Users\\aorus\\AppData\\Local\\Programs\\Python\\Python310\\lib\\site-packages\\sklearn\\svm\\_base.py:1225: ConvergenceWarning: Liblinear failed to converge, increase the number of iterations.\n",
      "  warnings.warn(\n",
      "C:\\Users\\aorus\\AppData\\Local\\Programs\\Python\\Python310\\lib\\site-packages\\sklearn\\svm\\_base.py:1225: ConvergenceWarning: Liblinear failed to converge, increase the number of iterations.\n",
      "  warnings.warn(\n",
      "C:\\Users\\aorus\\AppData\\Local\\Programs\\Python\\Python310\\lib\\site-packages\\sklearn\\svm\\_base.py:1225: ConvergenceWarning: Liblinear failed to converge, increase the number of iterations.\n",
      "  warnings.warn(\n"
     ]
    },
    {
     "name": "stdout",
     "output_type": "stream",
     "text": [
      "Cross-validated scores for each fold : [1. 1. 1. 1. 1.]\n",
      "The mean accuracy of all 5 folds 1.0\n"
     ]
    },
    {
     "name": "stderr",
     "output_type": "stream",
     "text": [
      "C:\\Users\\aorus\\AppData\\Local\\Programs\\Python\\Python310\\lib\\site-packages\\sklearn\\svm\\_base.py:1225: ConvergenceWarning: Liblinear failed to converge, increase the number of iterations.\n",
      "  warnings.warn(\n"
     ]
    }
   ],
   "source": [
    "# cross validation\n",
    "scores = cross_val_score(svc, train_df, y, cv=5)\n",
    "print (\"Cross-validated scores for each fold :\", scores)\n",
    "print (\"The mean accuracy of all 5 folds\", scores.mean())"
   ]
  },
  {
   "cell_type": "markdown",
   "id": "f9e622ec",
   "metadata": {},
   "source": [
    "## Perceptron:"
   ]
  },
  {
   "cell_type": "code",
   "execution_count": 70,
   "id": "749c268f",
   "metadata": {},
   "outputs": [
    {
     "name": "stdout",
     "output_type": "stream",
     "text": [
      "\n",
      "Training Accuracy score: 0.908984375\n",
      "Testing Accuracy score: 0.91140625\n"
     ]
    }
   ],
   "source": [
    "clf = Perceptron(tol=1e-3, random_state=0)\n",
    "clf.fit(X_train, y_train)\n",
    "Perceptron()\n",
    "y_pred_train = clf.predict(X_train)\n",
    "y_pred_test = clf.predict(X_test)\n",
    "per_score = accuracy_score(y_test, y_pred_test)\n",
    "print(\"\\nTraining Accuracy score:\",accuracy_score(y_train, y_pred_train))\n",
    "print(\"Testing Accuracy score:\",per_score)\n"
   ]
  },
  {
   "cell_type": "markdown",
   "id": "3201ab3f",
   "metadata": {},
   "source": [
    "### Confusion Matrix:"
   ]
  },
  {
   "cell_type": "code",
   "execution_count": 71,
   "id": "f3042fd7",
   "metadata": {},
   "outputs": [
    {
     "data": {
      "image/png": "[encoded data removed]",
      "text/plain": [
       "<Figure size 432x288 with 2 Axes>"
      ]
     },
     "metadata": {
      "needs_background": "light"
     },
     "output_type": "display_data"
    }
   ],
   "source": [
    "cm = confusion_matrix(y_test, y_pred_test)\n",
    "\n",
    "\n",
    "cm_matrix = pd.DataFrame(data=cm, columns=['True Positive', 'True Negative'], \n",
    "                        index=['False Positive', 'False Negative'])\n",
    "sns.heatmap(cm_matrix, annot=True, fmt='d', cmap='YlGnBu')\n",
    "plt.show()"
   ]
  },
  {
   "cell_type": "markdown",
   "id": "036c3e1d",
   "metadata": {},
   "source": [
    "### Classification Report:"
   ]
  },
  {
   "cell_type": "code",
   "execution_count": 72,
   "id": "62cc20fe",
   "metadata": {},
   "outputs": [
    {
     "name": "stdout",
     "output_type": "stream",
     "text": [
      "               precision    recall  f1-score   support\n",
      "\n",
      "Non-clickbait       0.91      0.91      0.91      3177\n",
      "    Clickbait       0.91      0.91      0.91      3223\n",
      "\n",
      "     accuracy                           0.91      6400\n",
      "    macro avg       0.91      0.91      0.91      6400\n",
      " weighted avg       0.91      0.91      0.91      6400\n",
      "\n"
     ]
    }
   ],
   "source": [
    "print(classification_report(y_test, y_pred_test, \n",
    "                            target_names=['Non-clickbait', 'Clickbait']))"
   ]
  },
  {
   "cell_type": "markdown",
   "id": "2fa778de",
   "metadata": {},
   "source": [
    "### AUC:"
   ]
  },
  {
   "cell_type": "code",
   "execution_count": 73,
   "id": "a189459a",
   "metadata": {},
   "outputs": [
    {
     "data": {
      "image/png": "[encoded data removed]",
      "text/plain": [
       "<Figure size 432x288 with 1 Axes>"
      ]
     },
     "metadata": {
      "needs_background": "light"
     },
     "output_type": "display_data"
    }
   ],
   "source": [
    "train_fpr, train_tpr, tr_thresholds = roc_curve(y_train, y_pred_train)\n",
    "test_fpr, test_tpr, te_thresholds = roc_curve(y_test, y_pred_test)\n",
    "\n",
    "plt.grid()\n",
    "\n",
    "plt.plot(train_fpr, train_tpr, label=\" AUC TRAIN =\"+str(auc(train_fpr, train_tpr)))\n",
    "plt.plot(test_fpr, test_tpr, label=\" AUC TEST =\"+str(auc(test_fpr, test_tpr)))\n",
    "plt.plot([0,1],[0,1],'g--')\n",
    "plt.legend()\n",
    "plt.xlabel(\"False Positive Rate\")\n",
    "plt.ylabel(\"True Positive Rate\")\n",
    "plt.title(\"AUC(ROC curve)\")\n",
    "plt.grid(color='black', linestyle='-', linewidth=0.5)\n",
    "plt.show()"
   ]
  },
  {
   "cell_type": "markdown",
   "id": "9af55854",
   "metadata": {},
   "source": [
    "### Using cross validation:"
   ]
  },
  {
   "cell_type": "code",
   "execution_count": 74,
   "id": "72aa456f",
   "metadata": {},
   "outputs": [
    {
     "name": "stdout",
     "output_type": "stream",
     "text": [
      "Cross-validated scores for each fold : [0.87984375 0.91203125 0.90390625 0.8746875  0.9146875 ]\n",
      "The mean accuracy of all 5 folds 0.8970312500000001\n"
     ]
    }
   ],
   "source": [
    "# cross validation\n",
    "scores = cross_val_score(clf, train_df, y, cv=5)\n",
    "print (\"Cross-validated scores for each fold :\", scores)\n",
    "print (\"The mean accuracy of all 5 folds\", scores.mean())"
   ]
  },
  {
   "cell_type": "markdown",
   "id": "1ae322cb",
   "metadata": {},
   "source": [
    "## Random Forest:"
   ]
  },
  {
   "cell_type": "code",
   "execution_count": 75,
   "id": "ce38603d",
   "metadata": {},
   "outputs": [
    {
     "data": {
      "text/plain": [
       "0.91"
      ]
     },
     "execution_count": 75,
     "metadata": {},
     "output_type": "execute_result"
    }
   ],
   "source": [
    "rfmodel=RandomForestClassifier(n_estimators=100,criterion='entropy',random_state=seed)\n",
    "rfmodel.fit(X_train,y_train)\n",
    "\n",
    "rf_pred = rfmodel.predict(X_test)\n",
    "\n",
    "rf_accuracy=round(accuracy_score(y_test,rf_pred),2)\n",
    "rf_accuracy"
   ]
  },
  {
   "cell_type": "markdown",
   "id": "dddfe36a",
   "metadata": {},
   "source": [
    "### Confusion Matrix:"
   ]
  },
  {
   "cell_type": "code",
   "execution_count": 76,
   "id": "4fcccd31",
   "metadata": {},
   "outputs": [
    {
     "data": {
      "image/png": "[encoded data removed]",
      "text/plain": [
       "<Figure size 432x288 with 2 Axes>"
      ]
     },
     "metadata": {
      "needs_background": "light"
     },
     "output_type": "display_data"
    }
   ],
   "source": [
    "cm = confusion_matrix(y_test, y_pred_test)\n",
    "\n",
    "\n",
    "cm_matrix = pd.DataFrame(data=cm, columns=['True Positive', 'True Negative'], \n",
    "                        index=['False Positive', 'False Negative'])\n",
    "sns.heatmap(cm_matrix, annot=True, fmt='d', cmap='YlGnBu')\n",
    "plt.show()"
   ]
  },
  {
   "cell_type": "markdown",
   "id": "981cbf06",
   "metadata": {},
   "source": [
    "### Classification Report:"
   ]
  },
  {
   "cell_type": "code",
   "execution_count": 77,
   "id": "6b879f19",
   "metadata": {},
   "outputs": [
    {
     "name": "stdout",
     "output_type": "stream",
     "text": [
      "               precision    recall  f1-score   support\n",
      "\n",
      "Non-clickbait       0.91      0.91      0.91      3177\n",
      "    Clickbait       0.91      0.91      0.91      3223\n",
      "\n",
      "     accuracy                           0.91      6400\n",
      "    macro avg       0.91      0.91      0.91      6400\n",
      " weighted avg       0.91      0.91      0.91      6400\n",
      "\n"
     ]
    }
   ],
   "source": [
    "print(classification_report(y_test, y_pred_test, \n",
    "                            target_names=['Non-clickbait', 'Clickbait']))"
   ]
  },
  {
   "cell_type": "markdown",
   "id": "97ff04ef",
   "metadata": {},
   "source": [
    "### AUC:"
   ]
  },
  {
   "cell_type": "code",
   "execution_count": 78,
   "id": "4ceb5fb6",
   "metadata": {},
   "outputs": [
    {
     "data": {
      "image/png": "[encoded data removed]",
      "text/plain": [
       "<Figure size 432x288 with 1 Axes>"
      ]
     },
     "metadata": {
      "needs_background": "light"
     },
     "output_type": "display_data"
    }
   ],
   "source": [
    "probs = rfmodel.predict_proba(X_test)\n",
    "preds = probs[:,1]\n",
    "fpr, tpr, threshold = metrics.roc_curve(y_test, preds)\n",
    "roc_auc = metrics.auc(fpr, tpr)\n",
    "\n",
    "plt.title('Receiver Operating Characteristic')\n",
    "plt.plot(fpr, tpr, 'b', label = 'AUC = %0.2f' % roc_auc)\n",
    "plt.legend(loc = 'lower right')\n",
    "plt.plot([0, 1], [0, 1],'r--')\n",
    "plt.xlim([0, 1])\n",
    "plt.ylim([0, 1])\n",
    "plt.ylabel('True Positive Rate')\n",
    "plt.xlabel('False Positive Rate')\n",
    "plt.show()"
   ]
  },
  {
   "cell_type": "markdown",
   "id": "134f34ab",
   "metadata": {},
   "source": [
    "### Using cross validation:"
   ]
  },
  {
   "cell_type": "code",
   "execution_count": 79,
   "id": "a1d510b5",
   "metadata": {},
   "outputs": [
    {
     "name": "stdout",
     "output_type": "stream",
     "text": [
      "Cross-validated scores for each fold : [1. 1. 1. 1. 1.]\n",
      "The mean accuracy of all 5 folds 1.0\n"
     ]
    }
   ],
   "source": [
    "# cross validation\n",
    "scores = cross_val_score(rfmodel, train_df, y, cv=5)\n",
    "print (\"Cross-validated scores for each fold :\", scores)\n",
    "print (\"The mean accuracy of all 5 folds\", scores.mean())"
   ]
  },
  {
   "cell_type": "code",
   "execution_count": 80,
   "id": "4b03051b",
   "metadata": {},
   "outputs": [
    {
     "data": {
      "text/html": [
       "<div>\n",
       "<style scoped>\n",
       "    .dataframe tbody tr th:only-of-type {\n",
       "        vertical-align: middle;\n",
       "    }\n",
       "\n",
       "    .dataframe tbody tr th {\n",
       "        vertical-align: top;\n",
       "    }\n",
       "\n",
       "    .dataframe thead th {\n",
       "        text-align: right;\n",
       "    }\n",
       "</style>\n",
       "<table border=\"1\" class=\"dataframe\">\n",
       "  <thead>\n",
       "    <tr style=\"text-align: right;\">\n",
       "      <th></th>\n",
       "      <th>Score</th>\n",
       "      <th>Model</th>\n",
       "    </tr>\n",
       "  </thead>\n",
       "  <tbody>\n",
       "    <tr>\n",
       "      <th>0</th>\n",
       "      <td>0.911875</td>\n",
       "      <td>MultinomialNB</td>\n",
       "    </tr>\n",
       "    <tr>\n",
       "      <th>1</th>\n",
       "      <td>0.911875</td>\n",
       "      <td>K-Nearest Neighbor</td>\n",
       "    </tr>\n",
       "    <tr>\n",
       "      <th>2</th>\n",
       "      <td>0.911406</td>\n",
       "      <td>Perceptron</td>\n",
       "    </tr>\n",
       "    <tr>\n",
       "      <th>3</th>\n",
       "      <td>0.910000</td>\n",
       "      <td>Support Vector Machine</td>\n",
       "    </tr>\n",
       "    <tr>\n",
       "      <th>4</th>\n",
       "      <td>0.910000</td>\n",
       "      <td>Random Forest</td>\n",
       "    </tr>\n",
       "    <tr>\n",
       "      <th>5</th>\n",
       "      <td>0.874687</td>\n",
       "      <td>Decision Tree</td>\n",
       "    </tr>\n",
       "    <tr>\n",
       "      <th>6</th>\n",
       "      <td>0.832812</td>\n",
       "      <td>GaussianNB</td>\n",
       "    </tr>\n",
       "  </tbody>\n",
       "</table>\n",
       "</div>"
      ],
      "text/plain": [
       "      Score                   Model\n",
       "0  0.911875           MultinomialNB\n",
       "1  0.911875      K-Nearest Neighbor\n",
       "2  0.911406              Perceptron\n",
       "3  0.910000  Support Vector Machine\n",
       "4  0.910000           Random Forest\n",
       "5  0.874687           Decision Tree\n",
       "6  0.832812              GaussianNB"
      ]
     },
     "execution_count": 80,
     "metadata": {},
     "output_type": "execute_result"
    }
   ],
   "source": [
    "Model_Comparison=pd.DataFrame({\n",
    "    'Model':['GaussianNB','MultinomialNB','Perceptron','Support Vector Machine',\n",
    "             'K-Nearest Neighbor','Decision Tree','Random Forest'],\n",
    "    'Score':[gnb_score,mnb_score,per_score,svc_accuracy,acc_test,\n",
    "              dt_score,rf_accuracy]})\n",
    "Model_Comparison_df= Model_Comparison.sort_values(by='Score',ascending=False)\n",
    "Model_Comparison_df=Model_Comparison_df.set_index('Score')\n",
    "Model_Comparison_df.reset_index()"
   ]
  },
  {
   "cell_type": "code",
   "execution_count": null,
   "id": "56b5e3fb",
   "metadata": {},
   "outputs": [],
   "source": []
  }
 ],
 "metadata": {
  "kernelspec": {
   "display_name": "Python 3 (ipykernel)",
   "language": "python",
   "name": "python3"
  },
  "language_info": {
   "codemirror_mode": {
    "name": "ipython",
    "version": 3
   },
   "file_extension": ".py",
   "mimetype": "text/x-python",
   "name": "python",
   "nbconvert_exporter": "python",
   "pygments_lexer": "ipython3",
   "version": "3.10.9"
  }
 },
 "nbformat": 4,
 "nbformat_minor": 5
}
